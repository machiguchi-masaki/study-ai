{
  "nbformat": 4,
  "nbformat_minor": 0,
  "metadata": {
    "kernelspec": {
      "display_name": "Python 3",
      "language": "python",
      "name": "python3"
    },
    "language_info": {
      "codemirror_mode": {
        "name": "ipython",
        "version": 3
      },
      "file_extension": ".py",
      "mimetype": "text/x-python",
      "name": "python",
      "nbconvert_exporter": "python",
      "pygments_lexer": "ipython3",
      "version": "3.7.1"
    },
    "colab": {
      "name": "np_pca.ipynb",
      "provenance": []
    }
  },
  "cells": [
    {
      "cell_type": "markdown",
      "metadata": {
        "id": "W-zM5VkS6iLX"
      },
      "source": [
        "# 主成分分析"
      ]
    },
    {
      "cell_type": "code",
      "metadata": {
        "id": "IOeo-NLZ6iLX"
      },
      "source": [
        "%matplotlib inline\n",
        "import numpy as np\n",
        "import matplotlib.pyplot as plt"
      ],
      "execution_count": 1,
      "outputs": []
    },
    {
      "cell_type": "markdown",
      "metadata": {
        "id": "GwQabvK06iLX"
      },
      "source": [
        "## 訓練データ生成"
      ]
    },
    {
      "cell_type": "code",
      "metadata": {
        "id": "LGNvde566iLX"
      },
      "source": [
        "n_sample = 100\n",
        "\n",
        "def gen_data(n_sample):\n",
        "    mean = [0, 0]\n",
        "    cov = [[2, 0.7], [0.7, 1]]\n",
        "    return np.random.multivariate_normal(mean, cov, n_sample)\n",
        "    # 多次元正規分布\n",
        "    #引数には\n",
        "    # loc: 生成したい正規分布の平均値ベクトルを指定\n",
        "    # scale: 生成したい正規分布の分散共分散行列を指定\n",
        "    # size: 生成する乱数の数を指定(default=1)\n",
        "    # check_valid: 分散共分散行列の半正定値チェック有無(warn/raise/ignoreを指定。オプション)\n",
        "    # tol: 半正定値チェックの許容誤差(オプション)\n",
        "def plt_data(X):\n",
        "    plt.scatter(X[:, 0], X[:, 1])\n",
        "    plt.xlim(-5, 5)\n",
        "    plt.ylim(-5, 5)"
      ],
      "execution_count": 9,
      "outputs": []
    },
    {
      "cell_type": "markdown",
      "metadata": {
        "id": "HyA1PXoW83-3"
      },
      "source": [
        ""
      ]
    },
    {
      "cell_type": "code",
      "metadata": {
        "colab": {
          "base_uri": "https://localhost:8080/",
          "height": 265
        },
        "id": "_HYqp1j66iLX",
        "outputId": "92d594bb-50c0-4338-f70a-182ce32b7416"
      },
      "source": [
        "X = gen_data(n_sample)\n",
        "plt_data(X)"
      ],
      "execution_count": 4,
      "outputs": [
        {
          "output_type": "display_data",
          "data": {
            "image/png": "[encoded data removed]",
            "text/plain": [
              "<Figure size 432x288 with 1 Axes>"
            ]
          },
          "metadata": {
            "tags": [],
            "needs_background": "light"
          }
        }
      ]
    },
    {
      "cell_type": "code",
      "metadata": {
        "colab": {
          "base_uri": "https://localhost:8080/"
        },
        "id": "JoOKJ9bl8JYS",
        "outputId": "d5d4e5b2-b241-469f-fe5a-0ecb802af033"
      },
      "source": [
        "X\n",
        "X.shape\n"
      ],
      "execution_count": 7,
      "outputs": [
        {
          "output_type": "execute_result",
          "data": {
            "text/plain": [
              "(100, 2)"
            ]
          },
          "metadata": {
            "tags": []
          },
          "execution_count": 7
        }
      ]
    },
    {
      "cell_type": "markdown",
      "metadata": {
        "id": "HbtMMm-k6iLY"
      },
      "source": [
        "## 学習"
      ]
    },
    {
      "cell_type": "markdown",
      "metadata": {
        "id": "L5PSzJwL6iLY"
      },
      "source": [
        "訓練データ$X = [\\boldsymbol{x}_{1}, \\boldsymbol{x}_{2}, ..., \\boldsymbol{x}_{n}]^{\\mathrm{T}}$に対して$\\mathbb{E}[\\boldsymbol{x}] = \\boldsymbol{0}$となるように変換する。\n",
        "\n",
        "すると、不偏共分散行列は$Var[\\boldsymbol{x}] = \\frac{1}{n-1} X^{\\mathrm{T}}X$と書ける。\n",
        "\n",
        "$Var[\\boldsymbol{x}]$を固有値分解し、固有値の大きい順に対応する固有ベクトルを第1主成分($\\boldsymbol{w}_{1}$), 第2主成分($\\boldsymbol{w}_{2}$), ...とよぶ。"
      ]
    },
    {
      "cell_type": "code",
      "metadata": {
        "scrolled": true,
        "id": "OJ5l0lMq6iLY"
      },
      "source": [
        "n_components=2\n",
        "\n",
        "def get_moments(X):\n",
        "    mean = X.mean(axis=0)\n",
        "    stan_cov = np.dot((X - mean).T, X - mean) / (len(X) - 1)\n",
        "    return mean, stan_cov\n",
        "    \n",
        "def get_components(eigenvectors, n_components):\n",
        "#     W = eigenvectors[:, -n_components:]\n",
        "#     return W.T[::-1]\n",
        "    W = eigenvectors[:, ::-1][:, :n_components]\n",
        "    return W.T\n",
        "\n",
        "def plt_result(X, first, second):\n",
        "    plt.scatter(X[:, 0], X[:, 1])\n",
        "    plt.xlim(-5, 5)\n",
        "    plt.ylim(-5, 5)\n",
        "    # 第１主成分\n",
        "    plt.quiver(0, 0, first[0], first[1], width=0.01, scale=6, color='red')\n",
        "    # 第２主成分\n",
        "    plt.quiver(0, 0, second[0], second[1], width=0.01, scale=6, color='green')"
      ],
      "execution_count": 10,
      "outputs": []
    },
    {
      "cell_type": "code",
      "metadata": {
        "colab": {
          "base_uri": "https://localhost:8080/"
        },
        "id": "vwzf_CSl_o52",
        "outputId": "2d445caf-82b3-4746-d214-671a8b1bd50b"
      },
      "source": [
        "X.mean(axis=0)"
      ],
      "execution_count": 11,
      "outputs": [
        {
          "output_type": "execute_result",
          "data": {
            "text/plain": [
              "array([ 0.13102504, -0.02091535])"
            ]
          },
          "metadata": {
            "tags": []
          },
          "execution_count": 11
        }
      ]
    },
    {
      "cell_type": "code",
      "metadata": {
        "colab": {
          "base_uri": "https://localhost:8080/",
          "height": 265
        },
        "id": "me2MK-dH6iLY",
        "outputId": "8a3622fd-9537-49f7-89e0-98289ff73f0f"
      },
      "source": [
        "#分散共分散行列を標準化\n",
        "meean, stan_cov = get_moments(X)\n",
        "#固有値と固有ベクトルを計算\n",
        "eigenvalues, eigenvectors = np.linalg.eigh(stan_cov)\n",
        "components = get_components(eigenvectors, n_components)\n",
        "\n",
        "plt_result(X, eigenvectors[0, :], eigenvectors[1, :])"
      ],
      "execution_count": 21,
      "outputs": [
        {
          "output_type": "display_data",
          "data": {
            "image/png": "[encoded data removed]",
            "text/plain": [
              "<Figure size 432x288 with 1 Axes>"
            ]
          },
          "metadata": {
            "tags": [],
            "needs_background": "light"
          }
        }
      ]
    },
    {
      "cell_type": "markdown",
      "metadata": {
        "id": "IBMAUAsq6iLY"
      },
      "source": [
        "## 変換（射影）"
      ]
    },
    {
      "cell_type": "markdown",
      "metadata": {
        "id": "eHuhSN6X6iLY"
      },
      "source": [
        "元のデータを$m$次元に変換(射影)するときは行列$W$を$W=[\\boldsymbol{w}_{1}, \\boldsymbol{w}_{2}, \\cdots, \\boldsymbol{w}_{m}]$とし、データ点$\\boldsymbol{x}$を$\\boldsymbol{z} = W^{\\mathrm{T}} \\boldsymbol{x}$によって変換(射影)する。\n",
        "\n",
        "よって、データ$X$に対しては$Z = X^{\\mathrm{T}}W$によって変換する。"
      ]
    },
    {
      "cell_type": "code",
      "metadata": {
        "id": "3irPxQF96iLY"
      },
      "source": [
        "def transform_by_pca(X, pca):\n",
        "    mean = X.mean(axis=0)\n",
        "    return np.dot(X-mean, components)"
      ],
      "execution_count": 13,
      "outputs": []
    },
    {
      "cell_type": "code",
      "metadata": {
        "colab": {
          "base_uri": "https://localhost:8080/",
          "height": 283
        },
        "id": "rWboGzS36iLY",
        "outputId": "dd536f7e-4443-4187-8803-73e838b03a7e"
      },
      "source": [
        "Z = transform_by_pca(X, components.T)\n",
        "plt.scatter(Z[:, 0], Z[:, 1])\n",
        "plt.xlim(-5, 5)\n",
        "plt.ylim(-5, 5)"
      ],
      "execution_count": 14,
      "outputs": [
        {
          "output_type": "execute_result",
          "data": {
            "text/plain": [
              "(-5.0, 5.0)"
            ]
          },
          "metadata": {
            "tags": []
          },
          "execution_count": 14
        },
        {
          "output_type": "display_data",
          "data": {
            "image/png": "[encoded data removed]",
            "text/plain": [
              "<Figure size 432x288 with 1 Axes>"
            ]
          },
          "metadata": {
            "tags": [],
            "needs_background": "light"
          }
        }
      ]
    },
    {
      "cell_type": "markdown",
      "metadata": {
        "collapsed": true,
        "id": "6PgIPzsP6iLY"
      },
      "source": [
        "## 逆変換"
      ]
    },
    {
      "cell_type": "markdown",
      "metadata": {
        "id": "D2hWkBP_6iLY"
      },
      "source": [
        "射影されたデータ点$\\boldsymbol{z}$を元のデータ空間へ逆変換するときは$\\bar{\\boldsymbol{x}} = (W^{\\mathrm{T}})^{-1} \\boldsymbol{z} = W \\boldsymbol{z}$によって変換する。\n",
        "\n",
        "よって、射影されたデータ$Z$に対しては$\\bar{X} = ZW^{\\mathrm{T}}$によって変換する。"
      ]
    },
    {
      "cell_type": "code",
      "metadata": {
        "id": "fKvZzaGd6iLY"
      },
      "source": [
        "mean = X.mean(axis=0)\n",
        "X_ = np.dot(Z, components.T) + mean"
      ],
      "execution_count": 15,
      "outputs": []
    },
    {
      "cell_type": "code",
      "metadata": {
        "colab": {
          "base_uri": "https://localhost:8080/",
          "height": 283
        },
        "id": "zSampWck6iLY",
        "outputId": "a6917df9-f718-41a8-c78a-b1fa084c5dca"
      },
      "source": [
        "plt.scatter(X_[:, 0], X_[:, 1])\n",
        "plt.xlim(-5, 5)\n",
        "plt.ylim(-5, 5)"
      ],
      "execution_count": 16,
      "outputs": [
        {
          "output_type": "execute_result",
          "data": {
            "text/plain": [
              "(-5.0, 5.0)"
            ]
          },
          "metadata": {
            "tags": []
          },
          "execution_count": 16
        },
        {
          "output_type": "display_data",
          "data": {
            "image/png": "[encoded data removed]",
            "text/plain": [
              "<Figure size 432x288 with 1 Axes>"
            ]
          },
          "metadata": {
            "tags": [],
            "needs_background": "light"
          }
        }
      ]
    },
    {
      "cell_type": "code",
      "metadata": {
        "colab": {
          "base_uri": "https://localhost:8080/"
        },
        "id": "tNikJvIg6iLY",
        "outputId": "af8e0fa9-cf29-41a4-b41c-220cfbdef31f"
      },
      "source": [
        "from sklearn.decomposition import PCA\n",
        "pca = PCA(n_components=2)\n",
        "pca.fit(X)"
      ],
      "execution_count": 17,
      "outputs": [
        {
          "output_type": "execute_result",
          "data": {
            "text/plain": [
              "PCA(copy=True, iterated_power='auto', n_components=2, random_state=None,\n",
              "    svd_solver='auto', tol=0.0, whiten=False)"
            ]
          },
          "metadata": {
            "tags": []
          },
          "execution_count": 17
        }
      ]
    },
    {
      "cell_type": "code",
      "metadata": {
        "id": "XaG5zftD6iLY",
        "outputId": "2886cb19-68dc-4cf5-ef63-258c2a3fe760"
      },
      "source": [
        "print('components: {}'.format(pca.components_))\n",
        "print('mean: {}'.format(pca.mean_))\n",
        "print('covariance: {}'.format(pca.get_covariance())) "
      ],
      "execution_count": null,
      "outputs": [
        {
          "output_type": "stream",
          "text": [
            "components: [[-0.96393594 -0.26613437]\n",
            " [ 0.26613437 -0.96393594]]\n",
            "mean: [0.21026183 0.22522613]\n",
            "covariance: [[2.3189788  0.46429746]\n",
            " [0.46429746 0.76548669]]\n"
          ],
          "name": "stdout"
        }
      ]
    },
    {
      "cell_type": "code",
      "metadata": {
        "colab": {
          "base_uri": "https://localhost:8080/",
          "height": 265
        },
        "id": "Yb5srn2T6iLZ",
        "outputId": "c1249c78-57e2-4593-f281-071ee20b1aa3"
      },
      "source": [
        "plt_result(X, pca.components_[0, :], pca.components_[1, :])"
      ],
      "execution_count": 18,
      "outputs": [
        {
          "output_type": "display_data",
          "data": {
            "image/png": "[encoded data removed]",
            "text/plain": [
              "<Figure size 432x288 with 1 Axes>"
            ]
          },
          "metadata": {
            "tags": [],
            "needs_background": "light"
          }
        }
      ]
    },
    {
      "cell_type": "code",
      "metadata": {
        "colab": {
          "base_uri": "https://localhost:8080/",
          "height": 355
        },
        "id": "54AyYfd-6iLZ",
        "outputId": "dcdca38e-560d-41e4-fabb-14a921b6117a"
      },
      "source": [
        "from sklearn.decomposition import PCA\n",
        "pca = PCA(n_components=2)\n",
        "pca.fit(X)\n",
        "plt_result(X, pca.components_[0, :], pca.components_[1, :])\n",
        "\n",
        "print('components: {}'.format(pca.components_))\n",
        "print('mean: {}'.format(pca.mean_))\n",
        "print('covariance: {}'.format(pca.get_covariance()))\n"
      ],
      "execution_count": 19,
      "outputs": [
        {
          "output_type": "stream",
          "text": [
            "components: [[ 0.93308834  0.35964725]\n",
            " [-0.35964725  0.93308834]]\n",
            "mean: [ 0.13102504 -0.02091535]\n",
            "covariance: [[2.41277785 0.67187816]\n",
            " [0.67187816 0.92858773]]\n"
          ],
          "name": "stdout"
        },
        {
          "output_type": "display_data",
          "data": {
            "image/png": "[encoded data removed]",
            "text/plain": [
              "<Figure size 432x288 with 1 Axes>"
            ]
          },
          "metadata": {
            "tags": [],
            "needs_background": "light"
          }
        }
      ]
    },
    {
      "cell_type": "code",
      "metadata": {
        "id": "WC6UNkhQ6iLZ"
      },
      "source": [
        ""
      ],
      "execution_count": null,
      "outputs": []
    }
  ]
}