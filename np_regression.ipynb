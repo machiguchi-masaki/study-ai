{
  "nbformat": 4,
  "nbformat_minor": 0,
  "metadata": {
    "kernelspec": {
      "display_name": "Python 3",
      "language": "python",
      "name": "python3"
    },
    "language_info": {
      "codemirror_mode": {
        "name": "ipython",
        "version": 3
      },
      "file_extension": ".py",
      "mimetype": "text/x-python",
      "name": "python",
      "nbconvert_exporter": "python",
      "pygments_lexer": "ipython3",
      "version": "3.7.1"
    },
    "colab": {
      "name": "np_regression.ipynb",
      "provenance": []
    }
  },
  "cells": [
    {
      "cell_type": "markdown",
      "metadata": {
        "id": "WAQPf5VQeSuY"
      },
      "source": [
        "# 回帰分析"
      ]
    },
    {
      "cell_type": "code",
      "metadata": {
        "id": "biOL9l_CeSuZ"
      },
      "source": [
        "%matplotlib inline\n",
        "import numpy as np\n",
        "import matplotlib.pyplot as plt"
      ],
      "execution_count": 1,
      "outputs": []
    },
    {
      "cell_type": "markdown",
      "metadata": {
        "id": "S5XaPk3xeSuZ"
      },
      "source": [
        "# 単回帰"
      ]
    },
    {
      "cell_type": "markdown",
      "metadata": {
        "id": "jXnyuluCeSuZ"
      },
      "source": [
        "## 訓練データ生成"
      ]
    },
    {
      "cell_type": "code",
      "metadata": {
        "id": "hmqljewxeSuZ"
      },
      "source": [
        "n_sample = 100\n",
        "var = .2\n",
        "\n",
        "def linear_func(x):\n",
        "    return 2 * x + 5\n",
        "\n",
        "def add_noise(y_true, var):\n",
        "    return y_true + np.random.normal(scale=var, size=y_true.shape)\n",
        "\n",
        "def plt_result(xs_train, ys_true, ys_train):\n",
        "    plt.scatter(xs_train, ys_train, facecolor=\"none\", edgecolor=\"b\", s=50,  label=\"training data\")\n",
        "    plt.plot(xs_train, ys_true, label=\"$2 x + 5$\")\n",
        "    plt.legend()"
      ],
      "execution_count": 3,
      "outputs": []
    },
    {
      "cell_type": "code",
      "metadata": {
        "colab": {
          "base_uri": "https://localhost:8080/"
        },
        "id": "3hRCe0T6mL_8",
        "outputId": "54248535-2401-4967-e2dd-3895f0e08a89"
      },
      "source": [
        "print(var)\n"
      ],
      "execution_count": 8,
      "outputs": [
        {
          "output_type": "stream",
          "text": [
            "0.2\n"
          ],
          "name": "stdout"
        }
      ]
    },
    {
      "cell_type": "code",
      "metadata": {
        "colab": {
          "base_uri": "https://localhost:8080/",
          "height": 319
        },
        "id": "gGnIx6_PeSuZ",
        "outputId": "75b01480-c30d-4184-fff2-443d309d4866"
      },
      "source": [
        "#データの作成\n",
        "xs = np.linspace(0, 1, n_sample)\n",
        "ys_true = linear_func(xs)\n",
        "ys = add_noise(ys_true, var)\n",
        "\n",
        "print(\"xs: {}\".format(xs.shape))\n",
        "print(\"ys_true: {}\".format(ys_true.shape))\n",
        "print(\"ys: {}\".format(ys.shape))\n",
        "\n",
        "#結果の描画\n",
        "plt_result(xs, ys_true, ys)"
      ],
      "execution_count": 9,
      "outputs": [
        {
          "output_type": "stream",
          "text": [
            "xs: (100,)\n",
            "ys_true: (100,)\n",
            "ys: (100,)\n"
          ],
          "name": "stdout"
        },
        {
          "output_type": "display_data",
          "data": {
            "image/png": "[encoded data removed]",
            "text/plain": [
              "<Figure size 432x288 with 1 Axes>"
            ]
          },
          "metadata": {
            "tags": [],
            "needs_background": "light"
          }
        }
      ]
    },
    {
      "cell_type": "code",
      "metadata": {
        "colab": {
          "base_uri": "https://localhost:8080/"
        },
        "id": "hM96M0yMm8Jb",
        "outputId": "66f000ad-d28e-44de-84f4-bde750630ef1"
      },
      "source": [
        "ys_true"
      ],
      "execution_count": 10,
      "outputs": [
        {
          "output_type": "execute_result",
          "data": {
            "text/plain": [
              "array([5.        , 5.02020202, 5.04040404, 5.06060606, 5.08080808,\n",
              "       5.1010101 , 5.12121212, 5.14141414, 5.16161616, 5.18181818,\n",
              "       5.2020202 , 5.22222222, 5.24242424, 5.26262626, 5.28282828,\n",
              "       5.3030303 , 5.32323232, 5.34343434, 5.36363636, 5.38383838,\n",
              "       5.4040404 , 5.42424242, 5.44444444, 5.46464646, 5.48484848,\n",
              "       5.50505051, 5.52525253, 5.54545455, 5.56565657, 5.58585859,\n",
              "       5.60606061, 5.62626263, 5.64646465, 5.66666667, 5.68686869,\n",
              "       5.70707071, 5.72727273, 5.74747475, 5.76767677, 5.78787879,\n",
              "       5.80808081, 5.82828283, 5.84848485, 5.86868687, 5.88888889,\n",
              "       5.90909091, 5.92929293, 5.94949495, 5.96969697, 5.98989899,\n",
              "       6.01010101, 6.03030303, 6.05050505, 6.07070707, 6.09090909,\n",
              "       6.11111111, 6.13131313, 6.15151515, 6.17171717, 6.19191919,\n",
              "       6.21212121, 6.23232323, 6.25252525, 6.27272727, 6.29292929,\n",
              "       6.31313131, 6.33333333, 6.35353535, 6.37373737, 6.39393939,\n",
              "       6.41414141, 6.43434343, 6.45454545, 6.47474747, 6.49494949,\n",
              "       6.51515152, 6.53535354, 6.55555556, 6.57575758, 6.5959596 ,\n",
              "       6.61616162, 6.63636364, 6.65656566, 6.67676768, 6.6969697 ,\n",
              "       6.71717172, 6.73737374, 6.75757576, 6.77777778, 6.7979798 ,\n",
              "       6.81818182, 6.83838384, 6.85858586, 6.87878788, 6.8989899 ,\n",
              "       6.91919192, 6.93939394, 6.95959596, 6.97979798, 7.        ])"
            ]
          },
          "metadata": {
            "tags": []
          },
          "execution_count": 10
        }
      ]
    },
    {
      "cell_type": "markdown",
      "metadata": {
        "id": "ciNjj0wyeSua"
      },
      "source": [
        "## 学習"
      ]
    },
    {
      "cell_type": "markdown",
      "metadata": {
        "id": "7PO_iposeSua"
      },
      "source": [
        "１次関数$y(x) = a x + b$における、$a$と$b$を求める。\n",
        "\n",
        "訓練データ$X = [x_{1}, x_{2}, ..., x_{n}]^{\\mathrm{T}}, \\boldsymbol{y} = [y_{1}, y_{2}, ..., y_{n}]^{\\mathrm{T}}$に対して、最小化する目的関数は$L = \\sum_{i=1}^{n} \\left( y_{i} - (a x_{i} + b) \\right)^2$と書け、\n",
        "\n",
        "$\\frac{\\partial L}{\\partial a} = -2\\sum_{i=1}^{n} \\left( y_{i} - (a x_{i} + b) \\right) x_{i} = 0$\n",
        "\n",
        "$\\frac{\\partial L}{\\partial b} = -2\\sum_{i=1}^{n} \\left( y_{i} - (a x_{i} + b) \\right) = 0 \\cdots (1)$\n",
        "\n",
        "より、目的関数を最小にする$a, b$は以下のように求まる。\n",
        "\n",
        "\\begin{eqnarray}\n",
        "\\left( \n",
        "\\begin{array}{cc}\n",
        "\\sum_{i=1}^{n} x_{i}^{2} & \\sum_{i=1}^{n} x_{i} \\\\\n",
        "\\sum_{i=1}^{n} x_{i} & n\n",
        "\\end{array}\n",
        "\\right)\n",
        "\\left( \n",
        "\\begin{array}{cc}\n",
        "\\hat{a} \\\\\n",
        "\\hat{b}  \n",
        "\\end{array}\n",
        "\\right)\n",
        "&=&\n",
        "\\left( \n",
        "\\begin{array}{cc}\n",
        "\\sum_{i=1}^{n} x_{i} y_{i} \\\\\n",
        "\\sum_{i=1}^{n} y_{i}  \n",
        "\\end{array}\n",
        "\\right) \\\\ \n",
        "\\left( \n",
        "\\begin{array}{cc}\n",
        "\\hat{a} \\\\\n",
        "\\hat{b}  \n",
        "\\end{array}\n",
        "\\right)\n",
        "&=&\n",
        "\\frac{1}{n \\sum_{i=1}^{n} x_{i}^{2} - (\\sum_{i=1}^{n} x_{i})^{2}}\n",
        "\\left( \n",
        "\\begin{array}{cc}\n",
        "n & -\\sum_{i=1}^{n} x_{i} \\\\\n",
        "-\\sum_{i=1}^{n} x_{i} & \\sum_{i=1}^{n} x_{i}^{2}\n",
        "\\end{array}\n",
        "\\right)\n",
        "\\left( \n",
        "\\begin{array}{cc}\n",
        "\\sum_{i=1}^{n} x_{i} y_{i} \\\\\n",
        "\\sum_{i=1}^{n} y_{i}  \n",
        "\\end{array}\n",
        "\\right) \\\\\n",
        "&=&\n",
        "\\frac{1}{n \\sum_{i=1}^{n} x_{i}^{2} - (\\sum_{i=1}^{n} x_{i})^{2}}\n",
        "\\left( \n",
        "\\begin{array}{cc}\n",
        "n \\sum_{i=1}^{n} x_{i} y_{i} - \\sum_{i=1}^{n} x_{i} \\sum_{i=1}^{n} y_{i}\\\\\n",
        "\\sum_{i=1}^{n} x_{i}^{2} \\sum_{i=1}^{n} y_{i} -\\sum_{i=1}^{n} x_{i} \\sum_{i=1}^{n} x_{i} y_{i}\n",
        "\\end{array}\n",
        "\\right) \\cdots (2)\n",
        "\\end{eqnarray}\n",
        "\n",
        "(1), (2)から$\\hat{a} = \\text{Cov}[x, y] / \\text{Var}[x], \\hat{b} = \\mu_{y} - \\hat{a} \\mu_{x}$で求める。"
      ]
    },
    {
      "cell_type": "code",
      "metadata": {
        "colab": {
          "base_uri": "https://localhost:8080/"
        },
        "id": "1E5JSyrBeSua",
        "outputId": "f9e26f16-e590-4bfc-feb8-e6891d14ae86"
      },
      "source": [
        "#numpy実装の回帰\n",
        "def train(xs, ys):\n",
        "    cov = np.cov(xs, ys, ddof=0)\n",
        "    a = cov[0, 1] / cov[0, 0]\n",
        "    b = np.mean(ys) - a * np.mean(xs)\n",
        "    return cov, a, b\n",
        "\n",
        "cov, a, b = train(xs, ys)\n",
        "print(\"cov: {}\".format(cov))\n",
        "print(\"coef: {}\".format(a))\n",
        "print(\"intercept: {}\".format(b))"
      ],
      "execution_count": 11,
      "outputs": [
        {
          "output_type": "stream",
          "text": [
            "cov: [[0.08501684 0.16560335]\n",
            " [0.16560335 0.35682761]]\n",
            "coef: 1.9478888887388779\n",
            "intercept: 5.03724673936677\n"
          ],
          "name": "stdout"
        }
      ]
    },
    {
      "cell_type": "code",
      "metadata": {
        "colab": {
          "base_uri": "https://localhost:8080/"
        },
        "id": "GX1XD3a2eSua",
        "outputId": "04c5b39f-5e3d-4ae1-b043-94d4f9509429"
      },
      "source": [
        "#skl実装の回帰\n",
        "from sklearn.linear_model import LinearRegression\n",
        "model = LinearRegression()\n",
        "reg = model.fit(xs.reshape(-1, 1), ys.reshape(-1, 1))\n",
        "\n",
        "print(\"coef_: {}\".format(reg.coef_))\n",
        "print(\"intercept_: {}\".format(reg.intercept_))"
      ],
      "execution_count": 13,
      "outputs": [
        {
          "output_type": "stream",
          "text": [
            "coef_: [[1.94788889]]\n",
            "intercept_: [5.03724674]\n"
          ],
          "name": "stdout"
        }
      ]
    },
    {
      "cell_type": "markdown",
      "metadata": {
        "id": "k750ezvpeSua"
      },
      "source": [
        "## 予測"
      ]
    },
    {
      "cell_type": "markdown",
      "metadata": {
        "id": "gJ4d5Pj4eSua"
      },
      "source": [
        "入力に対する値を$y(x) = a x + b$で予測する"
      ]
    },
    {
      "cell_type": "code",
      "metadata": {
        "colab": {
          "base_uri": "https://localhost:8080/",
          "height": 265
        },
        "id": "uMohdzDBeSua",
        "outputId": "f9253e21-fe62-4941-d1a3-ca2bed5e933f"
      },
      "source": [
        "xs_new = np.linspace(0, 1, n_sample)\n",
        "ys_pred = a * xs_new + b\n",
        "\n",
        "plt.scatter(xs, ys, facecolor=\"none\", edgecolor=\"b\", s=50, label=\"training data\")\n",
        "plt.plot(xs_new, ys_true, label=\"$2 x + 5$\")\n",
        "plt.plot(xs_new, ys_pred, label=\"prediction (a={:.2}, b={:.2})\".format(a, b))\n",
        "plt.legend()\n",
        "plt.show()"
      ],
      "execution_count": 14,
      "outputs": [
        {
          "output_type": "display_data",
          "data": {
            "image/png": "[encoded data removed]",
            "text/plain": [
              "<Figure size 432x288 with 1 Axes>"
            ]
          },
          "metadata": {
            "tags": [],
            "needs_background": "light"
          }
        }
      ]
    },
    {
      "cell_type": "markdown",
      "metadata": {
        "id": "JgOMM_D6eSua"
      },
      "source": [
        "# 多項式回帰"
      ]
    },
    {
      "cell_type": "markdown",
      "metadata": {
        "id": "lXL6OJcoeSua"
      },
      "source": [
        "## 訓練データ生成"
      ]
    },
    {
      "cell_type": "code",
      "metadata": {
        "id": "b6CazpYLeSua"
      },
      "source": [
        "n_sample = 10\n",
        "var = .25\n",
        "\n",
        "def sin_func(x):\n",
        "    return np.sin(2 * np.pi * x) \n",
        "\n",
        "def add_noise(y_true, var):\n",
        "    return y_true + np.random.normal(scale=var, size=y_true.shape)\n",
        "\n",
        "def plt_result(xs, ys_true, ys):\n",
        "    plt.scatter(xs, ys,facecolor=\"none\", edgecolor=\"b\", s=50,  label=\"training data\")\n",
        "    plt.plot(xs, ys_true, label=\"$\\sin(2\\pi x)$\")\n",
        "    plt.legend()"
      ],
      "execution_count": 15,
      "outputs": []
    },
    {
      "cell_type": "code",
      "metadata": {
        "colab": {
          "base_uri": "https://localhost:8080/",
          "height": 319
        },
        "id": "biBAopXxeSua",
        "outputId": "e5a6b828-5c51-48cd-e8ac-52a48ee8210e"
      },
      "source": [
        "#データの作成\n",
        "xs = np.linspace(0, 1, n_sample)\n",
        "ys_true = sin_func(xs)\n",
        "ys = add_noise(ys_true, var)\n",
        "\n",
        "print(\"xs: {}\".format(xs.shape))\n",
        "print(\"ys_true: {}\".format(ys_true.shape))\n",
        "print(\"ys: {}\".format(ys.shape))\n",
        "\n",
        "#結果の描画\n",
        "plt_result(xs, ys_true, ys)"
      ],
      "execution_count": 16,
      "outputs": [
        {
          "output_type": "stream",
          "text": [
            "xs: (10,)\n",
            "ys_true: (10,)\n",
            "ys: (10,)\n"
          ],
          "name": "stdout"
        },
        {
          "output_type": "display_data",
          "data": {
            "image/png": "[encoded data removed]",
            "text/plain": [
              "<Figure size 432x288 with 1 Axes>"
            ]
          },
          "metadata": {
            "tags": [],
            "needs_background": "light"
          }
        }
      ]
    },
    {
      "cell_type": "markdown",
      "metadata": {
        "id": "k_pybxFyeSub"
      },
      "source": [
        "## 学習"
      ]
    },
    {
      "cell_type": "markdown",
      "metadata": {
        "id": "ebT0Fko4eSub"
      },
      "source": [
        "モデルとして以下を用いる。\n",
        "\n",
        "$y(x) = \\sum_{i=0}^{d} w_{i} x^{i} = \\boldsymbol{w}^{\\mathrm{T}} \\boldsymbol{\\phi(x)}$\n",
        "\n",
        "ただし、$\\boldsymbol{w}=[w_{0}, w_{1}, ..., w_{d}]^{\\mathrm{T}}, \\boldsymbol{\\phi(x)} = [1, x, x^{2}, ..., x^{d}]^{\\mathrm{T}}$である。\n",
        "\n",
        "訓練データ$X, \\boldsymbol{y}$に対しては\n",
        "$\\boldsymbol{y} = \\Phi \\boldsymbol{w}$と書ける。\n",
        "\n",
        "ただし、$\\Phi = [\\boldsymbol{\\phi}(x_{1}), \\boldsymbol{\\phi}(x_{2}),.., \\boldsymbol{\\phi}(x_{n})]^{\\mathrm{T}}$である。\n",
        "\n",
        "よって、最小化する目的関数は$L = ||\\boldsymbol{y}  - \\Phi \\boldsymbol{w}||^2$と書け、\n",
        "\n",
        "$\\frac{\\partial L}{\\partial \\boldsymbol{w}} = - 2 \\Phi^{\\mathrm{T}} (\\boldsymbol{y} - \\Phi \\boldsymbol{w}) = 0$より、求める回帰係数$\\boldsymbol{w}$は以下のように書ける。\n",
        "\n",
        "$\\hat{\\boldsymbol{w}} = \\left( \\Phi^{\\mathrm{T}} \\Phi \\right)^{-1}  \\Phi^{\\mathrm{T}} \\boldsymbol{y}$"
      ]
    },
    {
      "cell_type": "code",
      "metadata": {
        "id": "Yg144uEDeSub"
      },
      "source": [
        "def polynomial_features(xs, degree=3):\n",
        "    \"\"\"多項式特徴ベクトルに変換\n",
        "         X = [[1, x1, x1^2, x1^3],\n",
        "                 [1, x2, x2^2, x2^3],\n",
        "                   ...                             \n",
        "                 [1, xn, xn^2, xn^3]]\"\"\"\n",
        "    X = np.ones((len(xs), degree+1))\n",
        "    X_t = X.T #(100, 4)\n",
        "    for i in range(1, degree+1):\n",
        "        X_t[i] = X_t[i-1] * xs\n",
        "    return X_t.T"
      ],
      "execution_count": 17,
      "outputs": []
    },
    {
      "cell_type": "code",
      "metadata": {
        "id": "S01AMks2eSub"
      },
      "source": [
        "Phi = polynomial_features(xs)\n",
        "Phi_inv = np.dot(np.linalg.inv(np.dot(Phi.T, Phi)), Phi.T)\n",
        "w = np.dot(Phi_inv, ys)"
      ],
      "execution_count": 19,
      "outputs": []
    },
    {
      "cell_type": "markdown",
      "metadata": {
        "id": "R0vV4zcneSub"
      },
      "source": [
        "## 予測"
      ]
    },
    {
      "cell_type": "markdown",
      "metadata": {
        "id": "NGOUaWfQeSub"
      },
      "source": [
        "入力を多項式特徴ベクトル$\\boldsymbol{\\phi(x)}$に変換し、$y = \\hat{\\boldsymbol{w}} \\boldsymbol{\\phi(x)}\\  (\\boldsymbol{y}(x) = \\Phi \\hat{\\boldsymbol{w}})$で予測する。"
      ]
    },
    {
      "cell_type": "code",
      "metadata": {
        "id": "u4cTn9j_eSub"
      },
      "source": [
        "Phi_test = polynomial_features(xs)\n",
        "ys_pred = np.dot(Phi_test, w)"
      ],
      "execution_count": 20,
      "outputs": []
    },
    {
      "cell_type": "code",
      "metadata": {
        "colab": {
          "base_uri": "https://localhost:8080/",
          "height": 265
        },
        "id": "AjEv9yYKeSub",
        "outputId": "be5c1a6c-b3cb-467c-a275-9323f2031812"
      },
      "source": [
        "plt.scatter(xs, ys, facecolor=\"none\", edgecolor=\"b\", s=50, label=\"training data\")\n",
        "plt.plot(xs, ys_true, label=\"$\\sin(2\\pi x)$\")\n",
        "plt.plot(xs, ys_pred, label=\"prediction\")\n",
        "# for i in range(0, 4):\n",
        "#     plt.plot(xs, Phi[:, i], label=\"basis\")\n",
        "plt.legend()\n",
        "plt.show()"
      ],
      "execution_count": 21,
      "outputs": [
        {
          "output_type": "display_data",
          "data": {
            "image/png": "[encoded data removed]",
            "text/plain": [
              "<Figure size 432x288 with 1 Axes>"
            ]
          },
          "metadata": {
            "tags": [],
            "needs_background": "light"
          }
        }
      ]
    },
    {
      "cell_type": "markdown",
      "metadata": {
        "id": "YLSkaN_oeSub"
      },
      "source": [
        "# 重回帰分析"
      ]
    },
    {
      "cell_type": "markdown",
      "metadata": {
        "id": "JKJElKo3eSub"
      },
      "source": [
        "## 訓練データ生成 (3次元入力)"
      ]
    },
    {
      "cell_type": "code",
      "metadata": {
        "colab": {
          "base_uri": "https://localhost:8080/"
        },
        "id": "kgyGdzN7eSub",
        "outputId": "27412649-f0f8-40ec-9963-e9b2c75b8e9f"
      },
      "source": [
        "np.random.random((10, 3))"
      ],
      "execution_count": 22,
      "outputs": [
        {
          "output_type": "execute_result",
          "data": {
            "text/plain": [
              "array([[0.06563726, 0.63289823, 0.60214145],\n",
              "       [0.42086614, 0.12846362, 0.45119563],\n",
              "       [0.58224141, 0.69078934, 0.28580323],\n",
              "       [0.70816709, 0.2576251 , 0.40408082],\n",
              "       [0.78535429, 0.110506  , 0.91607263],\n",
              "       [0.82700153, 0.74576004, 0.41377972],\n",
              "       [0.31643934, 0.07269386, 0.14513347],\n",
              "       [0.19567041, 0.42831143, 0.97233367],\n",
              "       [0.18665257, 0.08368133, 0.63460179],\n",
              "       [0.02058284, 0.90325375, 0.23897856]])"
            ]
          },
          "metadata": {
            "tags": []
          },
          "execution_count": 22
        }
      ]
    },
    {
      "cell_type": "code",
      "metadata": {
        "id": "jTNDbj2eeSub"
      },
      "source": [
        "n_sample = 100\n",
        "var = .2\n",
        "\n",
        "def mul_linear_func(x):\n",
        "    global ww\n",
        "    ww = [1., 0.5, 2., 1.]\n",
        "    return ww[0] + ww[1] * x[:, 0] + ww[2] * x[:, 1] + ww[3] * x[:, 2]\n",
        "\n",
        "def add_noise(y_true, var):\n",
        "    return y_true + np.random.normal(scale=var, size=y_true.shape)\n",
        "\n",
        "def plt_result(xs_train, ys_true, ys_train):\n",
        "    plt.scatter(xs_train, ys_train, facecolor=\"none\", edgecolor=\"b\", s=50,  label=\"training data\")\n",
        "    plt.plot(xs_train, ys_true, label=\"$2 x + 5$\")\n",
        "    plt.legend()"
      ],
      "execution_count": 23,
      "outputs": []
    },
    {
      "cell_type": "code",
      "metadata": {
        "id": "L-Udqlz7eSub"
      },
      "source": [
        "x_dim = 3\n",
        "\n",
        "X = np.random.random((n_sample, x_dim))\n",
        "ys_true = mul_linear_func(X)\n",
        "ys = add_noise(ys_true, var)"
      ],
      "execution_count": 25,
      "outputs": []
    },
    {
      "cell_type": "code",
      "metadata": {
        "id": "vIqKuVYossd5"
      },
      "source": [
        ""
      ],
      "execution_count": 26,
      "outputs": []
    },
    {
      "cell_type": "markdown",
      "metadata": {
        "id": "7I_79zg8eSub"
      },
      "source": [
        "## 学習"
      ]
    },
    {
      "cell_type": "markdown",
      "metadata": {
        "id": "nJI6yhPoeSub"
      },
      "source": [
        "モデルとして以下を用いる。\n",
        "\n",
        "$y(x) = \\sum_{i=0}^{d} w_{i} x_{i} = \\boldsymbol{w}^{\\mathrm{T}}  \\boldsymbol{x}$\n",
        "\n",
        "ただし、陽には書かないが、$\\boldsymbol{x}$には定数項のための$1$という要素があることを仮定する。\n",
        "\n",
        "訓練データ$X, \\boldsymbol{y}$に対しては$\\boldsymbol{y} = X \\boldsymbol{w}$と書ける。\n",
        "\n",
        "よって、最小化する目的関数は$L = ||\\boldsymbol{y}  - X \\boldsymbol{w}||^2$と書け、\n",
        "\n",
        "$\\frac{\\partial L}{\\partial \\boldsymbol{w}} = - 2 X^{\\mathrm{T}} (\\boldsymbol{y} - X \\boldsymbol{w}) = 0$より、求める回帰係数$\\boldsymbol{w}$は以下のように書ける。\n",
        "\n",
        "$\\hat{\\boldsymbol{w}} = \\left( X^{\\mathrm{T}} X \\right)^{-1}  X^{\\mathrm{T}} \\boldsymbol{y}$"
      ]
    },
    {
      "cell_type": "code",
      "metadata": {
        "id": "gQSPCNcfeSub"
      },
      "source": [
        "def add_one(x):\n",
        "    return np.concatenate([np.ones(len(x))[:, None], x], axis=1)\n",
        "\n",
        "X_train = add_one(X)\n",
        "# pinv = np.dot(np.linalg.inv(np.dot(X_train.T, X_train)), X_train.T)\n",
        "# w = np.dot(pinv, y_train)"
      ],
      "execution_count": 27,
      "outputs": []
    },
    {
      "cell_type": "markdown",
      "metadata": {
        "id": "cy0-3WsAeSub"
      },
      "source": [
        "## 予測"
      ]
    },
    {
      "cell_type": "markdown",
      "metadata": {
        "id": "9v-Pzf4geSub"
      },
      "source": [
        "入力に対する値を$y(x) = \\hat{\\boldsymbol{w}}^{\\mathrm{T}}  \\boldsymbol{x} \\ (\\boldsymbol{y} = X\\hat{\\boldsymbol{w}})$で予測する"
      ]
    },
    {
      "cell_type": "markdown",
      "metadata": {
        "id": "IJda8qwBeSub"
      },
      "source": [
        "## パラメータ推定結果"
      ]
    },
    {
      "cell_type": "code",
      "metadata": {
        "colab": {
          "base_uri": "https://localhost:8080/"
        },
        "id": "DdcYTEBgeSub",
        "outputId": "c929ce0c-0a1c-4ea3-a60a-dde91e2b4a8c"
      },
      "source": [
        "for i in range(len(w)):\n",
        "    print(\"w{0}_true: {1:>5.2}   w{0}_estimated: {2:>5.2}\".format(i, ww[i], w[i]))"
      ],
      "execution_count": 29,
      "outputs": [
        {
          "output_type": "stream",
          "text": [
            "w0_true:   1.0   w0_estimated:  0.26\n",
            "w1_true:   0.5   w1_estimated:   7.3\n",
            "w2_true:   2.0   w2_estimated: -2.4e+01\n",
            "w3_true:   1.0   w3_estimated: 1.7e+01\n"
          ],
          "name": "stdout"
        }
      ]
    },
    {
      "cell_type": "code",
      "metadata": {
        "id": "8na_lnDleSub"
      },
      "source": [
        ""
      ],
      "execution_count": null,
      "outputs": []
    }
  ]
}