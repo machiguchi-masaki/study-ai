{
  "nbformat": 4,
  "nbformat_minor": 0,
  "metadata": {
    "kernelspec": {
      "display_name": "Python 3",
      "language": "python",
      "name": "python3"
    },
    "language_info": {
      "codemirror_mode": {
        "name": "ipython",
        "version": 3
      },
      "file_extension": ".py",
      "mimetype": "text/x-python",
      "name": "python",
      "nbconvert_exporter": "python",
      "pygments_lexer": "ipython3",
      "version": "3.7.1"
    },
    "colab": {
      "name": "np_svm.ipynb",
      "provenance": [],
      "include_colab_link": true
    }
  },
  "cells": [
    {
      "cell_type": "markdown",
      "metadata": {
        "id": "view-in-github",
        "colab_type": "text"
      },
      "source": [
        "<a href=\"https://colab.research.google.com/github/machiguchi-masaki/study-ai/blob/master/np_svm.ipynb\" target=\"_parent\"><img src=\"https://colab.research.google.com/assets/colab-badge.svg\" alt=\"Open In Colab\"/></a>"
      ]
    },
    {
      "cell_type": "markdown",
      "metadata": {
        "id": "mXRNK37Cp4HT"
      },
      "source": [
        "# サポートベクターマシン(SVM)"
      ]
    },
    {
      "cell_type": "code",
      "metadata": {
        "id": "0tcNaUh2p4HT"
      },
      "source": [
        "%matplotlib inline\n",
        "import numpy as np\n",
        "import matplotlib.pyplot as plt"
      ],
      "execution_count": 11,
      "outputs": []
    },
    {
      "cell_type": "markdown",
      "metadata": {
        "id": "gO9lfRjtp4HT"
      },
      "source": [
        "## 訓練データ生成① （線形分離可能）"
      ]
    },
    {
      "cell_type": "code",
      "metadata": {
        "id": "n9vXptrFp4HT"
      },
      "source": [
        "def gen_data():\n",
        "    x0 = np.random.normal(size=50).reshape(-1, 2) - 2.\n",
        "    x1 = np.random.normal(size=50).reshape(-1, 2) + 2.\n",
        "    X_train = np.concatenate([x0, x1])\n",
        "    ys_train = np.concatenate([np.zeros(25), np.ones(25)]).astype(np.int)\n",
        "    return X_train, ys_train"
      ],
      "execution_count": 12,
      "outputs": []
    },
    {
      "cell_type": "code",
      "metadata": {
        "colab": {
          "base_uri": "https://localhost:8080/",
          "height": 285
        },
        "id": "4Di5cRV9p4HT",
        "outputId": "8f8b8c98-7ce8-48d7-8f1e-49d42381ad14"
      },
      "source": [
        "X_train, ys_train = gen_data()\n",
        "plt.scatter(X_train[:, 0], X_train[:, 1], c=ys_train)"
      ],
      "execution_count": 13,
      "outputs": [
        {
          "output_type": "execute_result",
          "data": {
            "text/plain": [
              "<matplotlib.collections.PathCollection at 0x7effe8920400>"
            ]
          },
          "metadata": {
            "tags": []
          },
          "execution_count": 13
        },
        {
          "output_type": "display_data",
          "data": {
            "image/png": "[encoded data removed]",
            "text/plain": [
              "<Figure size 432x288 with 1 Axes>"
            ]
          },
          "metadata": {
            "tags": [],
            "needs_background": "light"
          }
        }
      ]
    },
    {
      "cell_type": "markdown",
      "metadata": {
        "collapsed": true,
        "id": "KxCcxQJxp4HU"
      },
      "source": [
        "## 学習"
      ]
    },
    {
      "cell_type": "markdown",
      "metadata": {
        "id": "sFvvWg1up4HU"
      },
      "source": [
        "特徴空間上で線形なモデル$y(\\boldsymbol{x})= \\boldsymbol{w} \\phi(\\boldsymbol{x}) + b$を用い、その正負によって2値分類を行うことを考える。\n",
        "\n",
        "サポートベクトターマシンではマージンの最大化を行うが、それは結局以下の最適化問題を解くことと同じである。\n",
        "\n",
        "ただし、訓練データを$X = [\\boldsymbol{x}_{1}, \\boldsymbol{x}_{2}, ..., \\boldsymbol{x}_{n}]^{\\mathrm{T}}, \\boldsymbol{t} = [t_{1}, t_{2}, ..., t_{n}]^{\\mathrm{T}} (t_{i} = \\{-1, +1\\})$とする。\n",
        "\n",
        "$\\text{min}_{\\boldsymbol{w}, b} \\qquad \\qquad \\frac{1}{2} || \\boldsymbol{w} ||^{2}$\n",
        "\n",
        "$\\text{subject to} \\qquad  t_{i}(\\boldsymbol{w}\\phi(\\boldsymbol{x}_{i}) + b) \\ge 1 \\quad (i=1, 2, \\cdots, n)$\n",
        "\n",
        "ラグランジュ乗数法を使うと、上の最適化問題はラグランジュ乗数$\\boldsymbol{a} (\\ge 0)$を用いて、以下の目的関数を最小化する問題となる。\n",
        "\n",
        "$L(\\boldsymbol{w}, b, \\boldsymbol{a}) = \\frac{1}{2} || \\boldsymbol{w} ||^{2} - \\sum_{i=1}^{n} a_{i}  t_{i}(\\boldsymbol{w}\\phi(\\boldsymbol{x}_{i}) + b - 1) \\qquad \\cdots (1)$\n",
        "\n",
        "目的関数が最小となるのは、$\\boldsymbol{w}, b$に関して偏微分した値が$0$となるときなので、\n",
        "\n",
        "$\\frac{\\partial L}{\\partial \\boldsymbol{w}} = \\boldsymbol{w} - \\sum_{i=1}^{n} a_{i} t_{i} \\phi(\\boldsymbol{x}_{i}) = \\boldsymbol{0}$\n",
        "\n",
        "$\\frac{\\partial L}{\\partial b} = \\sum_{i=1}^{n} a_{i} t_{i} = \\boldsymbol{a}^{\\mathrm{T}} \\boldsymbol{t} = 0$\n",
        "\n",
        "これを式(1)　に代入することで、最適化問題は結局以下の目的関数の最大化となる。\n",
        "\n",
        "\\begin{eqnarray}\n",
        "\\tilde{L}(\\boldsymbol{a}) &=& \\sum_{i=1}^{n} a_{i} - \\frac{1}{2} \\sum_{i=1}^{n} \\sum_{j=1}^{n} a_{i} a_{j} t_{i} t_{j} \\phi(\\boldsymbol{x}_{i})^{\\mathrm{T}} \\phi(\\boldsymbol{x}_{j}) \\\\\n",
        "&=& \\boldsymbol{a}^{\\mathrm{T}} \\boldsymbol{1} - \\frac{1}{2} \\boldsymbol{a}^{\\mathrm{T}} H \\boldsymbol{a}\n",
        "\\end{eqnarray}\n",
        "\n",
        "ただし、行列$H$の$i$行$j$列成分は$H_{ij} = t_{i} t_{j} \\phi(\\boldsymbol{x}_{i})^{\\mathrm{T}} \\phi(\\boldsymbol{x}_{j}) = t_{i} t_{j} k(\\boldsymbol{x}_{i}, \\boldsymbol{x}_{j})$である。また制約条件は、$\\boldsymbol{a}^{\\mathrm{T}} \\boldsymbol{t} = 0 (\\frac{1}{2} || \\boldsymbol{a}^{\\mathrm{T}} \\boldsymbol{t} ||^{2} = 0)$である。\n",
        "\n",
        "この最適化問題を最急降下法で解く。目的関数と制約条件を$\\boldsymbol{a}$で微分すると、\n",
        "\n",
        "$\\frac{d \\tilde{L}}{d \\boldsymbol{a}} = \\boldsymbol{1} - H \\boldsymbol{a}$\n",
        "\n",
        "$\\frac{d}{d \\boldsymbol{a}} (\\frac{1}{2} || \\boldsymbol{a}^{\\mathrm{T}} \\boldsymbol{t} ||^{2}) = (\\boldsymbol{a}^{\\mathrm{T}} \\boldsymbol{t}) \\boldsymbol{t}$\n",
        "\n",
        "なので、$\\boldsymbol{a}$を以下の二式で更新する。\n",
        "\n",
        "$\\boldsymbol{a} \\leftarrow \\boldsymbol{a} + \\eta_{1} (\\boldsymbol{1} - H \\boldsymbol{a})$\n",
        "\n",
        "$\\boldsymbol{a} \\leftarrow \\boldsymbol{a} - \\eta_{2} (\\boldsymbol{a}^{\\mathrm{T}} \\boldsymbol{t}) \\boldsymbol{t}$"
      ]
    },
    {
      "cell_type": "code",
      "metadata": {
        "id": "dbDbSyGfp4HU"
      },
      "source": [
        "t = np.where(ys_train == 1.0, 1.0, -1.0)\n",
        "\n",
        "n_samples = len(X_train)\n",
        "# 線形カーネル\n",
        "K = X_train.dot(X_train.T)\n",
        "\n",
        "eta1 = 0.01\n",
        "eta2 = 0.001\n",
        "n_iter = 500\n",
        "\n",
        "H = np.outer(t, t) * K\n",
        "\n",
        "a = np.ones(n_samples)\n",
        "for _ in range(n_iter):\n",
        "    grad = 1 - H.dot(a)\n",
        "    a += eta1 * grad\n",
        "    a -= eta2 * a.dot(t) * t\n",
        "    a = np.where(a > 0, a, 0)"
      ],
      "execution_count": 14,
      "outputs": []
    },
    {
      "cell_type": "code",
      "metadata": {
        "colab": {
          "base_uri": "https://localhost:8080/"
        },
        "id": "7hbj1iWCrMMT",
        "outputId": "8664e840-2860-457a-ef4f-b75873605ba4"
      },
      "source": [
        "ys_train"
      ],
      "execution_count": 15,
      "outputs": [
        {
          "output_type": "execute_result",
          "data": {
            "text/plain": [
              "array([0, 0, 0, 0, 0, 0, 0, 0, 0, 0, 0, 0, 0, 0, 0, 0, 0, 0, 0, 0, 0, 0,\n",
              "       0, 0, 0, 1, 1, 1, 1, 1, 1, 1, 1, 1, 1, 1, 1, 1, 1, 1, 1, 1, 1, 1,\n",
              "       1, 1, 1, 1, 1, 1])"
            ]
          },
          "metadata": {
            "tags": []
          },
          "execution_count": 15
        }
      ]
    },
    {
      "cell_type": "markdown",
      "metadata": {
        "id": "TnAEdCKnp4HU"
      },
      "source": [
        "## 予測"
      ]
    },
    {
      "cell_type": "markdown",
      "metadata": {
        "id": "g5Xo-U0Fp4HU"
      },
      "source": [
        "新しいデータ点$\\boldsymbol{x}$に対しては、$y(\\boldsymbol{x})= \\boldsymbol{w} \\phi(\\boldsymbol{x}) + b = \\sum_{i=1}^{n} a_{i} t_{i} k(\\boldsymbol{x}, \\boldsymbol{x}_{i}) + b$の正負によって分類する。\n",
        "\n",
        "ここで、最適化の結果得られた$a_{i} (i = 1, 2, ...,n)$の中で$a_{i} = 0$に対応するデータ点は予測に影響を与えないので、$a_{i} > 0$に対応するデータ点（サポートベクトル）のみ保持しておく。$b$はサポートベクトルのインデックスの集合を$S$とすると、$b = \\frac{1}{S} \\sum_{s \\in S} \\left( t_{s} - \\sum_{i=1}^{n} a_{i} t_{i} k(\\boldsymbol{x}_{i}, \\boldsymbol{x}_{s}) \\right)$によって求める。"
      ]
    },
    {
      "cell_type": "code",
      "metadata": {
        "id": "qPeCB_OYp4HU"
      },
      "source": [
        "index = a > 1e-6\n",
        "support_vectors = X_train[index]\n",
        "support_vector_t = t[index]\n",
        "support_vector_a = a[index]\n",
        "\n",
        "term2 = K[index][:, index].dot(support_vector_a * support_vector_t)\n",
        "b = (support_vector_t - term2).mean()"
      ],
      "execution_count": 16,
      "outputs": []
    },
    {
      "cell_type": "code",
      "metadata": {
        "id": "_68bTX8Rp4HU"
      },
      "source": [
        "xx0, xx1 = np.meshgrid(np.linspace(-5, 5, 100), np.linspace(-5, 5, 100))\n",
        "xx = np.array([xx0, xx1]).reshape(2, -1).T\n",
        "\n",
        "X_test = xx\n",
        "y_project = np.ones(len(X_test)) * b\n",
        "for i in range(len(X_test)):\n",
        "    for a, sv_t, sv in zip(support_vector_a, support_vector_t, support_vectors):\n",
        "        y_project[i] += a * sv_t * sv.dot(X_test[i])\n",
        "y_pred = np.sign(y_project)"
      ],
      "execution_count": 17,
      "outputs": []
    },
    {
      "cell_type": "code",
      "metadata": {
        "colab": {
          "base_uri": "https://localhost:8080/",
          "height": 283
        },
        "id": "_QwgSndkp4HU",
        "outputId": "e33cb7e2-e01b-45c2-f8db-7b0e1d088f32"
      },
      "source": [
        "# 訓練データを可視化\n",
        "plt.scatter(X_train[:, 0], X_train[:, 1], c=ys_train)\n",
        "# サポートベクトルを可視化\n",
        "plt.scatter(support_vectors[:, 0], support_vectors[:, 1],\n",
        "                    s=100, facecolors='none', edgecolors='k')\n",
        "# 領域を可視化\n",
        "#plt.contourf(xx0, xx1, y_pred.reshape(100, 100), alpha=0.2, levels=np.linspace(0, 1, 3))\n",
        "# マージンと決定境界を可視化\n",
        "plt.contour(xx0, xx1, y_project.reshape(100, 100), colors='k',\n",
        "                     levels=[-1, 0, 1], alpha=0.5, linestyles=['--', '-', '--'])\n",
        "\n",
        "\n",
        "# マージンと決定境界を可視化\n",
        "plt.quiver(0, 0, 0.1, 0.35, width=0.01, scale=1, color='pink')"
      ],
      "execution_count": 18,
      "outputs": [
        {
          "output_type": "execute_result",
          "data": {
            "text/plain": [
              "<matplotlib.quiver.Quiver at 0x7effe8f83160>"
            ]
          },
          "metadata": {
            "tags": []
          },
          "execution_count": 18
        },
        {
          "output_type": "display_data",
          "data": {
            "image/png": "[encoded data removed]",
            "text/plain": [
              "<Figure size 432x288 with 1 Axes>"
            ]
          },
          "metadata": {
            "tags": [],
            "needs_background": "light"
          }
        }
      ]
    },
    {
      "cell_type": "markdown",
      "metadata": {
        "id": "Q4g07SxOp4HU"
      },
      "source": [
        "## 訓練データ生成② （線形分離不可能）"
      ]
    },
    {
      "cell_type": "code",
      "metadata": {
        "id": "U4yuMvIwp4HV"
      },
      "source": [
        "factor = .2\n",
        "n_samples = 50\n",
        "linspace = np.linspace(0, 2 * np.pi, n_samples // 2 + 1)[:-1]\n",
        "outer_circ_x = np.cos(linspace)\n",
        "outer_circ_y = np.sin(linspace)\n",
        "inner_circ_x = outer_circ_x * factor\n",
        "inner_circ_y = outer_circ_y * factor\n",
        "\n",
        "X = np.vstack((np.append(outer_circ_x, inner_circ_x),\n",
        "               np.append(outer_circ_y, inner_circ_y))).T\n",
        "y = np.hstack([np.zeros(n_samples // 2, dtype=np.intp),\n",
        "               np.ones(n_samples // 2, dtype=np.intp)])\n",
        "X += np.random.normal(scale=0.15, size=X.shape)\n",
        "x_train = X\n",
        "y_train = y"
      ],
      "execution_count": 19,
      "outputs": []
    },
    {
      "cell_type": "code",
      "metadata": {
        "colab": {
          "base_uri": "https://localhost:8080/",
          "height": 283
        },
        "id": "UYuSmEg7p4HV",
        "outputId": "463c5257-7e78-4388-a454-7fbdc03a7ac0"
      },
      "source": [
        "plt.scatter(x_train[:,0], x_train[:,1], c=y_train)"
      ],
      "execution_count": 20,
      "outputs": [
        {
          "output_type": "execute_result",
          "data": {
            "text/plain": [
              "<matplotlib.collections.PathCollection at 0x7effe5e5eac8>"
            ]
          },
          "metadata": {
            "tags": []
          },
          "execution_count": 20
        },
        {
          "output_type": "display_data",
          "data": {
            "image/png": "[encoded data removed]",
            "text/plain": [
              "<Figure size 432x288 with 1 Axes>"
            ]
          },
          "metadata": {
            "tags": [],
            "needs_background": "light"
          }
        }
      ]
    },
    {
      "cell_type": "markdown",
      "metadata": {
        "id": "fqj3ZLeyp4HV"
      },
      "source": [
        "## 学習"
      ]
    },
    {
      "cell_type": "markdown",
      "metadata": {
        "id": "iqwoHgkmp4HV"
      },
      "source": [
        "元のデータ空間では線形分離は出来ないが、特徴空間上で線形分離することを考える。\n",
        "\n",
        "今回はカーネルとしてRBFカーネル（ガウシアンカーネル）を利用する。"
      ]
    },
    {
      "cell_type": "code",
      "metadata": {
        "id": "KVO8xlJ8p4HV"
      },
      "source": [
        "def rbf(u, v):\n",
        "        sigma = 0.8\n",
        "        return np.exp(-0.5 * ((u - v)**2).sum() / sigma**2)\n",
        "    \n",
        "X_train = x_train\n",
        "t = np.where(y_train == 1.0, 1.0, -1.0)\n",
        "\n",
        "n_samples = len(X_train)\n",
        "# RBFカーネル\n",
        "K = np.zeros((n_samples, n_samples))\n",
        "for i in range(n_samples):\n",
        "    for j in range(n_samples):\n",
        "        K[i, j] = rbf(X_train[i], X_train[j])\n",
        "\n",
        "eta1 = 0.01\n",
        "eta2 = 0.001\n",
        "n_iter = 5000\n",
        "\n",
        "H = np.outer(t, t) * K\n",
        "\n",
        "a = np.ones(n_samples)\n",
        "for _ in range(n_iter):\n",
        "    grad = 1 - H.dot(a)\n",
        "    a += eta1 * grad\n",
        "    a -= eta2 * a.dot(t) * t\n",
        "    a = np.where(a > 0, a, 0)"
      ],
      "execution_count": 21,
      "outputs": []
    },
    {
      "cell_type": "markdown",
      "metadata": {
        "id": "4rpR76AAp4HV"
      },
      "source": [
        "## 予測"
      ]
    },
    {
      "cell_type": "code",
      "metadata": {
        "id": "0VFzI4kSp4HV"
      },
      "source": [
        "index = a > 1e-6\n",
        "support_vectors = X_train[index]\n",
        "support_vector_t = t[index]\n",
        "support_vector_a = a[index]\n",
        "\n",
        "term2 = K[index][:, index].dot(support_vector_a * support_vector_t)\n",
        "b = (support_vector_t - term2).mean()"
      ],
      "execution_count": 22,
      "outputs": []
    },
    {
      "cell_type": "code",
      "metadata": {
        "id": "6FpPhiCcp4HV"
      },
      "source": [
        "xx0, xx1 = np.meshgrid(np.linspace(-1.5, 1.5, 100), np.linspace(-1.5, 1.5, 100))\n",
        "xx = np.array([xx0, xx1]).reshape(2, -1).T\n",
        "\n",
        "X_test = xx\n",
        "y_project = np.ones(len(X_test)) * b\n",
        "for i in range(len(X_test)):\n",
        "    for a, sv_t, sv in zip(support_vector_a, support_vector_t, support_vectors):\n",
        "        y_project[i] += a * sv_t * rbf(X_test[i], sv)\n",
        "y_pred = np.sign(y_project)"
      ],
      "execution_count": 23,
      "outputs": []
    },
    {
      "cell_type": "code",
      "metadata": {
        "colab": {
          "base_uri": "https://localhost:8080/",
          "height": 287
        },
        "id": "js6UKRTFp4HV",
        "outputId": "81e7b1f0-09d5-4f47-aba9-3067449e6fcd"
      },
      "source": [
        "# 訓練データを可視化\n",
        "plt.scatter(x_train[:, 0], x_train[:, 1], c=y_train)\n",
        "# サポートベクトルを可視化\n",
        "plt.scatter(support_vectors[:, 0], support_vectors[:, 1],\n",
        "                    s=100, facecolors='none', edgecolors='k')\n",
        "# 領域を可視化\n",
        "plt.contourf(xx0, xx1, y_pred.reshape(100, 100), alpha=0.2, levels=np.linspace(0, 1, 3))\n",
        "# マージンと決定境界を可視化\n",
        "plt.contour(xx0, xx1, y_project.reshape(100, 100), colors='k',\n",
        "                     levels=[-1, 0, 1], alpha=0.5, linestyles=['--', '-', '--'])"
      ],
      "execution_count": 24,
      "outputs": [
        {
          "output_type": "execute_result",
          "data": {
            "text/plain": [
              "<matplotlib.contour.QuadContourSet at 0x7effe5dcd6d8>"
            ]
          },
          "metadata": {
            "tags": []
          },
          "execution_count": 24
        },
        {
          "output_type": "display_data",
          "data": {
            "image/png": "[encoded data removed]",
            "text/plain": [
              "<Figure size 432x288 with 1 Axes>"
            ]
          },
          "metadata": {
            "tags": [],
            "needs_background": "light"
          }
        }
      ]
    },
    {
      "cell_type": "markdown",
      "metadata": {
        "id": "cA2CHNHRp4HV"
      },
      "source": [
        "# ソフトマージンSVM"
      ]
    },
    {
      "cell_type": "markdown",
      "metadata": {
        "collapsed": true,
        "id": "6GDtIZX1p4HV"
      },
      "source": [
        "## 訓練データ生成③（重なりあり）"
      ]
    },
    {
      "cell_type": "code",
      "metadata": {
        "id": "hZ6Kaz5ep4HV"
      },
      "source": [
        "x0 = np.random.normal(size=50).reshape(-1, 2) - 1.\n",
        "x1 = np.random.normal(size=50).reshape(-1, 2) + 1.\n",
        "x_train = np.concatenate([x0, x1])\n",
        "y_train = np.concatenate([np.zeros(25), np.ones(25)]).astype(np.int)"
      ],
      "execution_count": 25,
      "outputs": []
    },
    {
      "cell_type": "code",
      "metadata": {
        "colab": {
          "base_uri": "https://localhost:8080/",
          "height": 285
        },
        "id": "WzHIKRK7p4HV",
        "outputId": "8d691bc4-9f28-4ccd-d1d9-b3a959b2a279"
      },
      "source": [
        "plt.scatter(x_train[:, 0], x_train[:, 1], c=y_train)"
      ],
      "execution_count": 26,
      "outputs": [
        {
          "output_type": "execute_result",
          "data": {
            "text/plain": [
              "<matplotlib.collections.PathCollection at 0x7effe5db0438>"
            ]
          },
          "metadata": {
            "tags": []
          },
          "execution_count": 26
        },
        {
          "output_type": "display_data",
          "data": {
            "image/png": "[encoded data removed]",
            "text/plain": [
              "<Figure size 432x288 with 1 Axes>"
            ]
          },
          "metadata": {
            "tags": [],
            "needs_background": "light"
          }
        }
      ]
    },
    {
      "cell_type": "markdown",
      "metadata": {
        "id": "4JRhRPvhp4HV"
      },
      "source": [
        "## 学習"
      ]
    },
    {
      "cell_type": "markdown",
      "metadata": {
        "id": "PbuV_JlKp4HV"
      },
      "source": [
        "分離不可能な場合は学習できないが、データ点がマージン内部に入ることや誤分類を許容することでその問題を回避する。\n",
        "\n",
        "スラック変数$\\xi_{i} \\ge 0$を導入し、マージン内部に入ったり誤分類された点に対しては、$\\xi_{i} = | 1 - t_{i} y(\\boldsymbol{x}_{i}) |$とし、これらを許容する代わりに対して、ペナルティを与えるように、最適化問題を以下のように修正する。\n",
        "\n",
        "$\\text{min}_{\\boldsymbol{w}, b} \\qquad \\qquad \\frac{1}{2} || \\boldsymbol{w} ||^{2} + C \\sum_{i=1}^{n} \\xi_{i}$\n",
        "\n",
        "$\\text{subject to} \\qquad  t_{i}(\\boldsymbol{w}\\phi(\\boldsymbol{x}_{i}) + b) \\ge 1 - \\xi_{i} \\quad (i=1, 2, \\cdots, n)$\n",
        "\n",
        "ただし、パラメータ$C$はマージンの大きさと誤差の許容度のトレードオフを決めるパラメータである。この最適化問題をラグランジュ乗数法などを用いると、結局最大化する目的関数はハードマージンSVMと同じとなる。\n",
        "\n",
        "$\\tilde{L}(\\boldsymbol{a}) = \\sum_{i=1}^{n} a_{i} - \\frac{1}{2} \\sum_{i=1}^{n} \\sum_{j=1}^{n} a_{i} a_{j} t_{i} t_{j} \\phi(\\boldsymbol{x}_{i})^{\\mathrm{T}} \\phi(\\boldsymbol{x}_{j})$\n",
        "\n",
        "ただし、制約条件が$a_{i} \\ge 0$の代わりに$0 \\le a_{i} \\le C (i = 1, 2, ..., n)$となる。（ハードマージンSVMと同じ$\\sum_{i=1}^{n} a_{i} t_{i} = 0$も制約条件）"
      ]
    },
    {
      "cell_type": "code",
      "metadata": {
        "id": "wYhAT8_2p4HV"
      },
      "source": [
        "X_train = x_train\n",
        "t = np.where(y_train == 1.0, 1.0, -1.0)\n",
        "\n",
        "n_samples = len(X_train)\n",
        "# 線形カーネル\n",
        "K = X_train.dot(X_train.T)\n",
        "\n",
        "C = 1\n",
        "eta1 = 0.01\n",
        "eta2 = 0.001\n",
        "n_iter = 1000\n",
        "\n",
        "H = np.outer(t, t) * K\n",
        "\n",
        "a = np.ones(n_samples)\n",
        "for _ in range(n_iter):\n",
        "    grad = 1 - H.dot(a)\n",
        "    a += eta1 * grad\n",
        "    a -= eta2 * a.dot(t) * t\n",
        "    a = np.clip(a, 0, C)"
      ],
      "execution_count": 27,
      "outputs": []
    },
    {
      "cell_type": "markdown",
      "metadata": {
        "id": "lbKukoAFp4HV"
      },
      "source": [
        "## 予測"
      ]
    },
    {
      "cell_type": "code",
      "metadata": {
        "id": "-0AOd-U6p4HV"
      },
      "source": [
        "index = a > 1e-8\n",
        "support_vectors = X_train[index]\n",
        "support_vector_t = t[index]\n",
        "support_vector_a = a[index]\n",
        "\n",
        "term2 = K[index][:, index].dot(support_vector_a * support_vector_t)\n",
        "b = (support_vector_t - term2).mean()"
      ],
      "execution_count": 28,
      "outputs": []
    },
    {
      "cell_type": "code",
      "metadata": {
        "id": "MWr497lUp4HV"
      },
      "source": [
        "xx0, xx1 = np.meshgrid(np.linspace(-4, 4, 100), np.linspace(-4, 4, 100))\n",
        "xx = np.array([xx0, xx1]).reshape(2, -1).T\n",
        "\n",
        "X_test = xx\n",
        "y_project = np.ones(len(X_test)) * b\n",
        "for i in range(len(X_test)):\n",
        "    for a, sv_t, sv in zip(support_vector_a, support_vector_t, support_vectors):\n",
        "        y_project[i] += a * sv_t * sv.dot(X_test[i])\n",
        "y_pred = np.sign(y_project)"
      ],
      "execution_count": 29,
      "outputs": []
    },
    {
      "cell_type": "code",
      "metadata": {
        "colab": {
          "base_uri": "https://localhost:8080/",
          "height": 287
        },
        "id": "GUpLunXHp4HV",
        "outputId": "ea28021d-a7ef-4c33-975f-5dd685876450"
      },
      "source": [
        "# 訓練データを可視化\n",
        "plt.scatter(x_train[:, 0], x_train[:, 1], c=y_train)\n",
        "# サポートベクトルを可視化\n",
        "plt.scatter(support_vectors[:, 0], support_vectors[:, 1],\n",
        "                    s=100, facecolors='none', edgecolors='k')\n",
        "# 領域を可視化\n",
        "plt.contourf(xx0, xx1, y_pred.reshape(100, 100), alpha=0.2, levels=np.linspace(0, 1, 3))\n",
        "# マージンと決定境界を可視化\n",
        "plt.contour(xx0, xx1, y_project.reshape(100, 100), colors='k',\n",
        "                     levels=[-1, 0, 1], alpha=0.5, linestyles=['--', '-', '--'])"
      ],
      "execution_count": 30,
      "outputs": [
        {
          "output_type": "execute_result",
          "data": {
            "text/plain": [
              "<matplotlib.contour.QuadContourSet at 0x7effe5d22710>"
            ]
          },
          "metadata": {
            "tags": []
          },
          "execution_count": 30
        },
        {
          "output_type": "display_data",
          "data": {
            "image/png": "[encoded data removed]",
            "text/plain": [
              "<Figure size 432x288 with 1 Axes>"
            ]
          },
          "metadata": {
            "tags": [],
            "needs_background": "light"
          }
        }
      ]
    },
    {
      "cell_type": "code",
      "metadata": {
        "id": "p6ghskj1p4HV"
      },
      "source": [
        ""
      ],
      "execution_count": 30,
      "outputs": []
    }
  ]
}