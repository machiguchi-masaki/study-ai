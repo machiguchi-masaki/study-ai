{
  "nbformat": 4,
  "nbformat_minor": 0,
  "metadata": {
    "kernelspec": {
      "display_name": "Python 3",
      "language": "python",
      "name": "python3"
    },
    "language_info": {
      "codemirror_mode": {
        "name": "ipython",
        "version": 3
      },
      "file_extension": ".py",
      "mimetype": "text/x-python",
      "name": "python",
      "nbconvert_exporter": "python",
      "pygments_lexer": "ipython3",
      "version": "3.7.1"
    },
    "colab": {
      "name": "np_knn.ipynb",
      "provenance": [],
      "include_colab_link": true
    }
  },
  "cells": [
    {
      "cell_type": "markdown",
      "metadata": {
        "id": "view-in-github",
        "colab_type": "text"
      },
      "source": [
        "<a href=\"https://colab.research.google.com/github/machiguchi-masaki/study-ai/blob/master/np_knn.ipynb\" target=\"_parent\"><img src=\"https://colab.research.google.com/assets/colab-badge.svg\" alt=\"Open In Colab\"/></a>"
      ]
    },
    {
      "cell_type": "markdown",
      "metadata": {
        "id": "ti61ADXxZYCh"
      },
      "source": [
        "# k近傍法"
      ]
    },
    {
      "cell_type": "code",
      "metadata": {
        "id": "xB8uDrArZYCh"
      },
      "source": [
        "%matplotlib inline\n",
        "import numpy as np\n",
        "import matplotlib.pyplot as plt\n",
        "from scipy import stats"
      ],
      "execution_count": 1,
      "outputs": []
    },
    {
      "cell_type": "markdown",
      "metadata": {
        "id": "Z4HWPhdhZYCh"
      },
      "source": [
        "## 訓練データ生成"
      ]
    },
    {
      "cell_type": "code",
      "metadata": {
        "id": "AY_WFXPPZYCh"
      },
      "source": [
        "def gen_data():\n",
        "    x0 = np.random.normal(size=50).reshape(-1, 2) - 1\n",
        "    x1 = np.random.normal(size=50).reshape(-1, 2) + 1.\n",
        "    x_train = np.concatenate([x0, x1])\n",
        "    y_train = np.concatenate([np.zeros(25), np.ones(25)]).astype(np.int)\n",
        "    return x_train, y_train"
      ],
      "execution_count": 2,
      "outputs": []
    },
    {
      "cell_type": "code",
      "metadata": {
        "colab": {
          "base_uri": "https://localhost:8080/",
          "height": 287
        },
        "id": "zzkvjmyzZYCh",
        "outputId": "151730ce-b290-44f2-fc68-d3a35643fbde"
      },
      "source": [
        "X_train, ys_train = gen_data()\n",
        "plt.scatter(X_train[:, 0], X_train[:, 1], c=ys_train)"
      ],
      "execution_count": 3,
      "outputs": [
        {
          "output_type": "execute_result",
          "data": {
            "text/plain": [
              "<matplotlib.collections.PathCollection at 0x7f00adc70f60>"
            ]
          },
          "metadata": {
            "tags": []
          },
          "execution_count": 3
        },
        {
          "output_type": "display_data",
          "data": {
            "image/png": "[encoded data removed]",
            "text/plain": [
              "<Figure size 432x288 with 1 Axes>"
            ]
          },
          "metadata": {
            "tags": [],
            "needs_background": "light"
          }
        }
      ]
    },
    {
      "cell_type": "code",
      "metadata": {
        "colab": {
          "base_uri": "https://localhost:8080/"
        },
        "id": "Wg4rYz0qZ9jA",
        "outputId": "7780cff2-264c-4c57-9998-795a0dc9da9b"
      },
      "source": [
        "X_train.shape"
      ],
      "execution_count": 7,
      "outputs": [
        {
          "output_type": "execute_result",
          "data": {
            "text/plain": [
              "(50, 2)"
            ]
          },
          "metadata": {
            "tags": []
          },
          "execution_count": 7
        }
      ]
    },
    {
      "cell_type": "markdown",
      "metadata": {
        "collapsed": true,
        "id": "jiR5MqaXZYCi"
      },
      "source": [
        "## 学習"
      ]
    },
    {
      "cell_type": "markdown",
      "metadata": {
        "id": "IuAN1CoHZYCi"
      },
      "source": [
        "陽に訓練ステップはない"
      ]
    },
    {
      "cell_type": "markdown",
      "metadata": {
        "id": "Lkq0xnzEZYCi"
      },
      "source": [
        "## 予測"
      ]
    },
    {
      "cell_type": "markdown",
      "metadata": {
        "id": "spwc7LV7ZYCi"
      },
      "source": [
        "予測するデータ点との、距離が最も近い$k$個の、訓練データのラベルの最頻値を割り当てる"
      ]
    },
    {
      "cell_type": "code",
      "metadata": {
        "id": "Btld_isTZYCi"
      },
      "source": [
        "def distance(x1, x2):\n",
        "    return np.sum((x1 - x2)**2, axis=1)\n",
        "\n",
        "def knc_predict(n_neighbors, x_train, y_train, X_test):\n",
        "    y_pred = np.empty(len(X_test), dtype=y_train.dtype)\n",
        "    for i, x in enumerate(X_test):\n",
        "        distances = distance(x, X_train)\n",
        "        nearest_index = distances.argsort()[:n_neighbors]\n",
        "        mode, _ = stats.mode(y_train[nearest_index])\n",
        "        y_pred[i] = mode\n",
        "    return y_pred\n",
        "\n",
        "def plt_resut(x_train, y_train, y_pred):\n",
        "    xx0, xx1 = np.meshgrid(np.linspace(-5, 5, 100), np.linspace(-5, 5, 100))\n",
        "    xx = np.array([xx0, xx1]).reshape(2, -1).T\n",
        "    plt.scatter(x_train[:, 0], x_train[:, 1], c=y_train)\n",
        "    plt.contourf(xx0, xx1, y_pred.reshape(100, 100).astype(dtype=np.float), alpha=0.2, levels=np.linspace(0, 1, 3))"
      ],
      "execution_count": 9,
      "outputs": []
    },
    {
      "cell_type": "code",
      "metadata": {
        "colab": {
          "base_uri": "https://localhost:8080/",
          "height": 265
        },
        "id": "iDfkLmhMZYCi",
        "outputId": "93c2da5d-6c9c-4d6c-ee6a-6e72a71f2754"
      },
      "source": [
        "n_neighbors = 3\n",
        "\n",
        "xx0, xx1 = np.meshgrid(np.linspace(-5, 5, 100), np.linspace(-5, 5, 100))\n",
        "X_test = np.array([xx0, xx1]).reshape(2, -1).T\n",
        "\n",
        "y_pred = knc_predict(n_neighbors, X_train, ys_train, X_test)\n",
        "plt_resut(X_train, ys_train, y_pred)"
      ],
      "execution_count": 11,
      "outputs": [
        {
          "output_type": "display_data",
          "data": {
            "image/png": "[encoded data removed]",
            "text/plain": [
              "<Figure size 432x288 with 1 Axes>"
            ]
          },
          "metadata": {
            "tags": [],
            "needs_background": "light"
          }
        }
      ]
    },
    {
      "cell_type": "code",
      "metadata": {
        "colab": {
          "base_uri": "https://localhost:8080/"
        },
        "id": "aKf0KfZ5bKmI",
        "outputId": "99eabf7b-6dbc-4ee9-a413-880f229346b1"
      },
      "source": [
        "print(np.array([xx0, xx1]))\n",
        "print(X_test)\n",
        "X_test.shape"
      ],
      "execution_count": 15,
      "outputs": [
        {
          "output_type": "stream",
          "text": [
            "[[[-5.        -4.8989899 -4.7979798 ...  4.7979798  4.8989899  5.       ]\n",
            "  [-5.        -4.8989899 -4.7979798 ...  4.7979798  4.8989899  5.       ]\n",
            "  [-5.        -4.8989899 -4.7979798 ...  4.7979798  4.8989899  5.       ]\n",
            "  ...\n",
            "  [-5.        -4.8989899 -4.7979798 ...  4.7979798  4.8989899  5.       ]\n",
            "  [-5.        -4.8989899 -4.7979798 ...  4.7979798  4.8989899  5.       ]\n",
            "  [-5.        -4.8989899 -4.7979798 ...  4.7979798  4.8989899  5.       ]]\n",
            "\n",
            " [[-5.        -5.        -5.        ... -5.        -5.        -5.       ]\n",
            "  [-4.8989899 -4.8989899 -4.8989899 ... -4.8989899 -4.8989899 -4.8989899]\n",
            "  [-4.7979798 -4.7979798 -4.7979798 ... -4.7979798 -4.7979798 -4.7979798]\n",
            "  ...\n",
            "  [ 4.7979798  4.7979798  4.7979798 ...  4.7979798  4.7979798  4.7979798]\n",
            "  [ 4.8989899  4.8989899  4.8989899 ...  4.8989899  4.8989899  4.8989899]\n",
            "  [ 5.         5.         5.        ...  5.         5.         5.       ]]]\n",
            "[[-5.        -5.       ]\n",
            " [-4.8989899 -5.       ]\n",
            " [-4.7979798 -5.       ]\n",
            " ...\n",
            " [ 4.7979798  5.       ]\n",
            " [ 4.8989899  5.       ]\n",
            " [ 5.         5.       ]]\n"
          ],
          "name": "stdout"
        },
        {
          "output_type": "execute_result",
          "data": {
            "text/plain": [
              "(10000, 2)"
            ]
          },
          "metadata": {
            "tags": []
          },
          "execution_count": 15
        }
      ]
    },
    {
      "cell_type": "markdown",
      "metadata": {
        "id": "aTLc9R2PZYCi"
      },
      "source": [
        "## numpy実装"
      ]
    },
    {
      "cell_type": "code",
      "metadata": {
        "id": "elKjXfFVZYCi",
        "outputId": "a1deabbc-b1c1-4052-9bdd-992527642403"
      },
      "source": [
        "from sklearn.neighbors import KNeighborsClassifier\n",
        "knc = KNeighborsClassifier(n_neighbors=n_neighbors).fit(X_train, ys_train)\n",
        "plt_resut(X_train, ys_train, knc.predict(X_test))"
      ],
      "execution_count": null,
      "outputs": [
        {
          "output_type": "display_data",
          "data": {
            "image/png": "[encoded data removed]",
            "text/plain": [
              "<Figure size 432x288 with 1 Axes>"
            ]
          },
          "metadata": {
            "tags": [],
            "needs_background": "light"
          }
        }
      ]
    },
    {
      "cell_type": "code",
      "metadata": {
        "id": "a-gRkJQaZYCi"
      },
      "source": [
        ""
      ],
      "execution_count": null,
      "outputs": []
    },
    {
      "cell_type": "code",
      "metadata": {
        "id": "72oU_jJ9ZYCi"
      },
      "source": [
        ""
      ],
      "execution_count": null,
      "outputs": []
    }
  ]
}