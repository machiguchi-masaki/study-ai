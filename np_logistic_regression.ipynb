{
  "nbformat": 4,
  "nbformat_minor": 0,
  "metadata": {
    "colab": {
      "name": "np_logistic_regression.ipynb",
      "provenance": []
    },
    "kernelspec": {
      "display_name": "Python 3",
      "language": "python",
      "name": "python3"
    },
    "language_info": {
      "codemirror_mode": {
        "name": "ipython",
        "version": 3
      },
      "file_extension": ".py",
      "mimetype": "text/x-python",
      "name": "python",
      "nbconvert_exporter": "python",
      "pygments_lexer": "ipython3",
      "version": "3.7.1"
    }
  },
  "cells": [
    {
      "cell_type": "markdown",
      "metadata": {
        "id": "X-6GNfa0PXze"
      },
      "source": [
        "# ロジスティック回帰"
      ]
    },
    {
      "cell_type": "code",
      "metadata": {
        "id": "dWh0eajTPXze"
      },
      "source": [
        "%matplotlib inline\n",
        "import numpy as np\n",
        "import matplotlib.pyplot as plt"
      ],
      "execution_count": 6,
      "outputs": []
    },
    {
      "cell_type": "markdown",
      "metadata": {
        "id": "_ha2wa63PXze"
      },
      "source": [
        "## 訓練データ生成"
      ]
    },
    {
      "cell_type": "code",
      "metadata": {
        "id": "OzvGrnyiPXzf"
      },
      "source": [
        "n_sample = 100\n",
        "harf_n_sample = 50\n",
        "var = .2\n",
        "\n",
        "def gen_data(n_sample, harf_n_sample):\n",
        "    x0 = np.random.normal(size=n_sample).reshape(-1, 2) - 1.\n",
        "    x1 = np.random.normal(size=n_sample).reshape(-1, 2) + 1.\n",
        "    x_train = np.concatenate([x0, x1])\n",
        "    y_train = np.concatenate([np.zeros(harf_n_sample), np.ones(harf_n_sample)]).astype(np.int)\n",
        "    return x_train, y_train\n",
        "\n",
        "def plt_data(x_train, y_train):\n",
        "    plt.scatter(x_train[:, 0], x_train[:, 1], c=y_train, facecolor=\"none\", edgecolor=\"b\", s=50, label=\"training data\")\n",
        "    plt.legend()"
      ],
      "execution_count": 7,
      "outputs": []
    },
    {
      "cell_type": "code",
      "metadata": {
        "colab": {
          "base_uri": "https://localhost:8080/",
          "height": 265
        },
        "id": "WszKb8FDPXzf",
        "outputId": "f1a650ef-616a-4c4e-97a5-bbbabf861de7"
      },
      "source": [
        "#データ作成\n",
        "x_train, y_train = gen_data(n_sample, harf_n_sample)\n",
        "#データ表示\n",
        "plt_data(x_train, y_train)"
      ],
      "execution_count": 11,
      "outputs": [
        {
          "output_type": "display_data",
          "data": {
            "image/png": "[encoded data removed]",
            "text/plain": [
              "<Figure size 432x288 with 1 Axes>"
            ]
          },
          "metadata": {
            "tags": [],
            "needs_background": "light"
          }
        }
      ]
    },
    {
      "cell_type": "code",
      "metadata": {
        "colab": {
          "base_uri": "https://localhost:8080/"
        },
        "id": "CprpJcE1TRvW",
        "outputId": "214bf9fb-7968-441a-da9d-c86949557944"
      },
      "source": [
        "x_train, y_train"
      ],
      "execution_count": 12,
      "outputs": [
        {
          "output_type": "execute_result",
          "data": {
            "text/plain": [
              "(array([[-1.73751234e+00, -4.25294364e-01],\n",
              "        [-1.23100466e+00, -3.95640682e-01],\n",
              "        [-1.00468485e+00, -2.84802535e+00],\n",
              "        [ 2.17195468e-02, -2.52228379e+00],\n",
              "        [-1.38235353e+00, -1.44196431e+00],\n",
              "        [-1.16267280e+00,  3.52541341e-02],\n",
              "        [-5.84442715e-01,  1.05700409e+00],\n",
              "        [ 3.34004994e-01, -1.66493137e+00],\n",
              "        [-2.46556161e+00, -1.81742732e+00],\n",
              "        [-8.88075579e-01, -8.60814613e-01],\n",
              "        [-4.99733980e-01, -1.40688052e+00],\n",
              "        [-1.33509403e+00, -3.83249005e-01],\n",
              "        [-9.41400427e-01, -2.73149029e+00],\n",
              "        [-8.29981094e-01, -1.39060616e+00],\n",
              "        [-6.38598894e-01, -4.66904818e-01],\n",
              "        [-1.21578236e+00, -9.33055004e-01],\n",
              "        [-2.09081075e+00, -8.58139801e-01],\n",
              "        [-8.40325814e-01, -1.91348787e+00],\n",
              "        [-2.29370398e+00, -4.19001025e+00],\n",
              "        [-1.33608465e+00, -1.80045582e+00],\n",
              "        [-1.09986860e+00, -2.36519145e+00],\n",
              "        [-1.49664737e+00, -4.47898433e-01],\n",
              "        [-9.77843707e-01, -7.00342945e-01],\n",
              "        [ 2.28038958e-01, -2.85813386e-01],\n",
              "        [-6.65225886e-01, -1.23890421e+00],\n",
              "        [ 8.60343730e-01, -1.78274261e+00],\n",
              "        [-1.02974053e+00, -1.09561095e+00],\n",
              "        [-1.12115248e+00, -6.64898778e-01],\n",
              "        [-2.07320285e+00, -1.91930536e+00],\n",
              "        [ 7.81650980e-01, -1.23852028e+00],\n",
              "        [-1.13464969e+00, -2.21580070e+00],\n",
              "        [ 2.18423639e-01, -2.44595332e-02],\n",
              "        [-8.94072360e-01, -6.82224245e-01],\n",
              "        [-1.56692654e+00, -1.10254769e+00],\n",
              "        [-3.67691465e-01, -1.91616015e+00],\n",
              "        [ 8.64381816e-01, -4.90102406e-01],\n",
              "        [-6.61628261e-01, -4.59684199e-01],\n",
              "        [-1.65263244e+00, -1.92755779e+00],\n",
              "        [-1.71455978e+00, -1.03723943e+00],\n",
              "        [-4.88514501e-01,  2.36808730e-01],\n",
              "        [ 4.75058630e-01, -1.56203199e+00],\n",
              "        [-9.50073355e-01, -1.20325698e+00],\n",
              "        [-1.83832007e+00, -1.29854216e+00],\n",
              "        [-2.74715395e+00, -8.42780159e-01],\n",
              "        [-1.87148748e+00, -1.77746029e+00],\n",
              "        [-5.64783323e-01,  2.36668410e-01],\n",
              "        [-4.74227321e-01, -1.06012289e+00],\n",
              "        [-1.32675908e+00, -1.86137904e+00],\n",
              "        [-2.13518750e-01, -5.04643914e-01],\n",
              "        [-2.47100610e+00, -2.81355173e+00],\n",
              "        [ 1.10050284e+00,  2.23452586e+00],\n",
              "        [ 8.59502149e-01,  2.97324636e-01],\n",
              "        [ 1.26786070e+00,  1.51683212e+00],\n",
              "        [-2.76569403e-01,  8.76321265e-01],\n",
              "        [ 6.38636085e-01,  1.92044937e+00],\n",
              "        [ 5.80023022e-01,  1.66181392e+00],\n",
              "        [-2.70768027e-02,  1.41220585e+00],\n",
              "        [ 1.45783249e+00,  4.52354962e-01],\n",
              "        [ 4.50640589e+00,  1.84779099e+00],\n",
              "        [ 2.95659212e-01,  5.28440033e-01],\n",
              "        [ 3.22724285e+00,  1.72342595e+00],\n",
              "        [ 8.04046158e-01,  1.44491888e+00],\n",
              "        [ 1.33780808e+00,  1.13907323e+00],\n",
              "        [ 1.21918765e+00,  1.49257378e+00],\n",
              "        [ 2.09820883e+00,  1.50954892e+00],\n",
              "        [ 9.92650099e-01,  1.43854031e+00],\n",
              "        [-4.82422706e-01, -8.61520416e-02],\n",
              "        [ 1.74349003e+00,  1.98459052e+00],\n",
              "        [ 1.58624743e+00,  1.57279222e+00],\n",
              "        [-3.62564153e-01,  2.55544857e+00],\n",
              "        [ 1.94766257e+00,  1.98158136e+00],\n",
              "        [ 1.48362924e+00, -8.59961025e-01],\n",
              "        [ 1.29410107e+00,  7.98581014e-01],\n",
              "        [ 1.17174548e+00,  2.91986737e-01],\n",
              "        [ 8.48265935e-01,  3.10587668e-02],\n",
              "        [-3.67290058e-01,  1.16492336e+00],\n",
              "        [ 5.52539111e-01,  1.16681557e+00],\n",
              "        [ 1.75799862e+00, -4.15016303e-03],\n",
              "        [-3.89102142e-01,  1.26907849e+00],\n",
              "        [ 2.60911562e+00,  8.71918583e-01],\n",
              "        [ 1.30676655e+00,  5.21083376e-01],\n",
              "        [ 9.29771882e-01,  1.00353734e+00],\n",
              "        [ 4.55362224e-01,  1.65152959e+00],\n",
              "        [ 4.85507190e-01,  1.79360475e+00],\n",
              "        [ 1.45160054e+00,  1.56142661e+00],\n",
              "        [ 2.16170925e+00,  1.04441831e+00],\n",
              "        [ 5.73899723e-01, -1.81113615e-01],\n",
              "        [ 1.25338381e-01,  2.32004483e+00],\n",
              "        [ 1.30782818e-01,  1.86698064e+00],\n",
              "        [ 8.78242272e-01,  5.31720266e-01],\n",
              "        [ 3.78525908e+00,  8.54905265e-01],\n",
              "        [ 1.25378740e+00,  5.05342423e-01],\n",
              "        [ 3.06124287e-01, -2.96401754e-01],\n",
              "        [ 2.50539505e-01,  1.41390200e+00],\n",
              "        [ 5.18935335e-01, -5.85083466e-01],\n",
              "        [-5.97081470e-01,  1.28654921e+00],\n",
              "        [ 2.97147910e-01,  9.70350913e-01],\n",
              "        [ 1.01745330e+00,  2.05063355e+00],\n",
              "        [ 1.71879402e+00,  1.78519436e+00],\n",
              "        [ 1.42814896e+00,  2.32115705e+00]]),\n",
              " array([0, 0, 0, 0, 0, 0, 0, 0, 0, 0, 0, 0, 0, 0, 0, 0, 0, 0, 0, 0, 0, 0,\n",
              "        0, 0, 0, 0, 0, 0, 0, 0, 0, 0, 0, 0, 0, 0, 0, 0, 0, 0, 0, 0, 0, 0,\n",
              "        0, 0, 0, 0, 0, 0, 1, 1, 1, 1, 1, 1, 1, 1, 1, 1, 1, 1, 1, 1, 1, 1,\n",
              "        1, 1, 1, 1, 1, 1, 1, 1, 1, 1, 1, 1, 1, 1, 1, 1, 1, 1, 1, 1, 1, 1,\n",
              "        1, 1, 1, 1, 1, 1, 1, 1, 1, 1, 1, 1]))"
            ]
          },
          "metadata": {
            "tags": []
          },
          "execution_count": 12
        }
      ]
    },
    {
      "cell_type": "markdown",
      "metadata": {
        "collapsed": true,
        "id": "z6mco4cFPXzf"
      },
      "source": [
        "## ロジスティック回帰モデル"
      ]
    },
    {
      "cell_type": "markdown",
      "metadata": {
        "id": "RgR3vG_yPXzf"
      },
      "source": [
        "識別モデルとして$p(y=1 | \\boldsymbol{x}; \\boldsymbol{w}) = \\sigma (\\boldsymbol{w}^{\\mathrm{T}} \\boldsymbol{x})$を用いる。\n",
        "\n",
        "ただし、$\\sigma(\\cdot)$はシグモイド関数であり、$\\sigma(h) = \\frac{1}{1 + \\exp{(-h)}}$で定義される。\n",
        "\n",
        "また、陽には書かないが、$\\boldsymbol{x}$には定数項のための$1$という要素があることを仮定する。"
      ]
    },
    {
      "cell_type": "markdown",
      "metadata": {
        "id": "QtkuZq_BPXzf"
      },
      "source": [
        "## 学習"
      ]
    },
    {
      "cell_type": "markdown",
      "metadata": {
        "id": "133bvMZLPXzf"
      },
      "source": [
        "訓練データ$X = [\\boldsymbol{x}_{1}, \\boldsymbol{x}_{2}, ..., \\boldsymbol{x}_{n}]^{\\mathrm{T}}, \\boldsymbol{y} = [y_{1}, y_{2}, ..., y_{n}]^{\\mathrm{T}} (y_{i} = \\{0, 1\\})$に対して尤度関数$L$は以下のように書ける。\n",
        "\n",
        "$L(\\boldsymbol{w}) = \\prod_{i=1}^{n} p(y_{i}=1 | \\boldsymbol{x}_{i}; \\boldsymbol{w})^{y_{i}} (1 - p(y_{i}=1 | \\boldsymbol{x}_{i}; \\boldsymbol{w}))^{1 - y_{i}}$\n",
        "\n",
        "負の対数尤度関数は\n",
        "\n",
        "$- \\log{L(\\boldsymbol{w})} = - \\sum_{i=1}^{n} \\left[ y_{i} \\log{p(y_{i}=1 | \\boldsymbol{x}_{i}; \\boldsymbol{w})} + (1 - y_{i}) \\log{(1 - p(y_{i}=1 | \\boldsymbol{x}_{i}; \\boldsymbol{w}))} \\right]$\n",
        "\n",
        "のように書ける。 これを最小化する$\\boldsymbol{w}$を求める。\n",
        "\n",
        "$\\frac{d \\sigma(h)}{d h} = \\sigma(h)(1 - \\sigma(h))$と書けることを考慮し、負の対数尤度関数を$\\boldsymbol{w}$で偏微分すると、\n",
        "\n",
        "\\begin{eqnarray}\n",
        "\\frac{\\partial }{\\partial \\boldsymbol{w}} (-\\log{L(\\boldsymbol{w})}) &=& -\\sum_{i=1}^{n} \\left[ y_{i} (1 - \\sigma(\\boldsymbol{w}^{\\mathrm{T}} \\boldsymbol{x}_{i})) - (1 - y_{i}) \\sigma(\\boldsymbol{w}^{\\mathrm{T}} \\boldsymbol{x}_{i}) \\right] \\boldsymbol{x}_{i}  \\\\\n",
        "&=& \\sum_{i=1}^{n} \\left( \\sigma(\\boldsymbol{w}^{\\mathrm{T}} \\boldsymbol{x}_{i}) - y_{i} ) \\right) \\boldsymbol{x}_{i}\n",
        "\\end{eqnarray}\n",
        "\n",
        "この式が$0$となる$\\boldsymbol{w}$は解析的に求められないので、今回は$-\\log{L(\\boldsymbol{w})}$の最小化問題を最急降下法を用いて解く。\n",
        "\n",
        "最急降下法では学習率を$\\eta$とすると、以下の式で$\\boldsymbol{w}$を更新する。\n",
        "\n",
        "$\\boldsymbol{w} \\leftarrow \\boldsymbol{w} - \\eta \\frac{\\partial }{\\partial \\boldsymbol{w}} (-\\log{L(\\boldsymbol{w})})$"
      ]
    },
    {
      "cell_type": "code",
      "metadata": {
        "id": "801GaxcWPXzf"
      },
      "source": [
        "def add_one(x):\n",
        "    return np.concatenate([np.ones(len(x))[:, None], x], axis=1)"
      ],
      "execution_count": 13,
      "outputs": []
    },
    {
      "cell_type": "code",
      "metadata": {
        "id": "l-hXwOHRPXzg",
        "colab": {
          "base_uri": "https://localhost:8080/"
        },
        "outputId": "727fdc9d-039f-4888-db53-8bfc3982440a"
      },
      "source": [
        "def sigmoid(x):\n",
        "    return 1 / (1 + np.exp(-x))\n",
        "\n",
        "def sgd(X_train, max_iter, eta):\n",
        "    w = np.zeros(X_train.shape[1])\n",
        "    for _ in range(max_iter):\n",
        "        w_prev = np.copy(w)\n",
        "        sigma = sigmoid(np.dot(X_train, w))\n",
        "        grad = np.dot(X_train.T, (sigma - y_train))\n",
        "        w -= eta * grad\n",
        "        if np.allclose(w, w_prev):\n",
        "            return w\n",
        "    return w\n",
        "\n",
        "X_train = add_one(x_train)\n",
        "max_iter=100\n",
        "eta = 0.01\n",
        "w = sgd(X_train, max_iter, eta)\n",
        "\n",
        "print(X_train)"
      ],
      "execution_count": 15,
      "outputs": [
        {
          "output_type": "stream",
          "text": [
            "[[ 1.00000000e+00 -1.73751234e+00 -4.25294364e-01]\n",
            " [ 1.00000000e+00 -1.23100466e+00 -3.95640682e-01]\n",
            " [ 1.00000000e+00 -1.00468485e+00 -2.84802535e+00]\n",
            " [ 1.00000000e+00  2.17195468e-02 -2.52228379e+00]\n",
            " [ 1.00000000e+00 -1.38235353e+00 -1.44196431e+00]\n",
            " [ 1.00000000e+00 -1.16267280e+00  3.52541341e-02]\n",
            " [ 1.00000000e+00 -5.84442715e-01  1.05700409e+00]\n",
            " [ 1.00000000e+00  3.34004994e-01 -1.66493137e+00]\n",
            " [ 1.00000000e+00 -2.46556161e+00 -1.81742732e+00]\n",
            " [ 1.00000000e+00 -8.88075579e-01 -8.60814613e-01]\n",
            " [ 1.00000000e+00 -4.99733980e-01 -1.40688052e+00]\n",
            " [ 1.00000000e+00 -1.33509403e+00 -3.83249005e-01]\n",
            " [ 1.00000000e+00 -9.41400427e-01 -2.73149029e+00]\n",
            " [ 1.00000000e+00 -8.29981094e-01 -1.39060616e+00]\n",
            " [ 1.00000000e+00 -6.38598894e-01 -4.66904818e-01]\n",
            " [ 1.00000000e+00 -1.21578236e+00 -9.33055004e-01]\n",
            " [ 1.00000000e+00 -2.09081075e+00 -8.58139801e-01]\n",
            " [ 1.00000000e+00 -8.40325814e-01 -1.91348787e+00]\n",
            " [ 1.00000000e+00 -2.29370398e+00 -4.19001025e+00]\n",
            " [ 1.00000000e+00 -1.33608465e+00 -1.80045582e+00]\n",
            " [ 1.00000000e+00 -1.09986860e+00 -2.36519145e+00]\n",
            " [ 1.00000000e+00 -1.49664737e+00 -4.47898433e-01]\n",
            " [ 1.00000000e+00 -9.77843707e-01 -7.00342945e-01]\n",
            " [ 1.00000000e+00  2.28038958e-01 -2.85813386e-01]\n",
            " [ 1.00000000e+00 -6.65225886e-01 -1.23890421e+00]\n",
            " [ 1.00000000e+00  8.60343730e-01 -1.78274261e+00]\n",
            " [ 1.00000000e+00 -1.02974053e+00 -1.09561095e+00]\n",
            " [ 1.00000000e+00 -1.12115248e+00 -6.64898778e-01]\n",
            " [ 1.00000000e+00 -2.07320285e+00 -1.91930536e+00]\n",
            " [ 1.00000000e+00  7.81650980e-01 -1.23852028e+00]\n",
            " [ 1.00000000e+00 -1.13464969e+00 -2.21580070e+00]\n",
            " [ 1.00000000e+00  2.18423639e-01 -2.44595332e-02]\n",
            " [ 1.00000000e+00 -8.94072360e-01 -6.82224245e-01]\n",
            " [ 1.00000000e+00 -1.56692654e+00 -1.10254769e+00]\n",
            " [ 1.00000000e+00 -3.67691465e-01 -1.91616015e+00]\n",
            " [ 1.00000000e+00  8.64381816e-01 -4.90102406e-01]\n",
            " [ 1.00000000e+00 -6.61628261e-01 -4.59684199e-01]\n",
            " [ 1.00000000e+00 -1.65263244e+00 -1.92755779e+00]\n",
            " [ 1.00000000e+00 -1.71455978e+00 -1.03723943e+00]\n",
            " [ 1.00000000e+00 -4.88514501e-01  2.36808730e-01]\n",
            " [ 1.00000000e+00  4.75058630e-01 -1.56203199e+00]\n",
            " [ 1.00000000e+00 -9.50073355e-01 -1.20325698e+00]\n",
            " [ 1.00000000e+00 -1.83832007e+00 -1.29854216e+00]\n",
            " [ 1.00000000e+00 -2.74715395e+00 -8.42780159e-01]\n",
            " [ 1.00000000e+00 -1.87148748e+00 -1.77746029e+00]\n",
            " [ 1.00000000e+00 -5.64783323e-01  2.36668410e-01]\n",
            " [ 1.00000000e+00 -4.74227321e-01 -1.06012289e+00]\n",
            " [ 1.00000000e+00 -1.32675908e+00 -1.86137904e+00]\n",
            " [ 1.00000000e+00 -2.13518750e-01 -5.04643914e-01]\n",
            " [ 1.00000000e+00 -2.47100610e+00 -2.81355173e+00]\n",
            " [ 1.00000000e+00  1.10050284e+00  2.23452586e+00]\n",
            " [ 1.00000000e+00  8.59502149e-01  2.97324636e-01]\n",
            " [ 1.00000000e+00  1.26786070e+00  1.51683212e+00]\n",
            " [ 1.00000000e+00 -2.76569403e-01  8.76321265e-01]\n",
            " [ 1.00000000e+00  6.38636085e-01  1.92044937e+00]\n",
            " [ 1.00000000e+00  5.80023022e-01  1.66181392e+00]\n",
            " [ 1.00000000e+00 -2.70768027e-02  1.41220585e+00]\n",
            " [ 1.00000000e+00  1.45783249e+00  4.52354962e-01]\n",
            " [ 1.00000000e+00  4.50640589e+00  1.84779099e+00]\n",
            " [ 1.00000000e+00  2.95659212e-01  5.28440033e-01]\n",
            " [ 1.00000000e+00  3.22724285e+00  1.72342595e+00]\n",
            " [ 1.00000000e+00  8.04046158e-01  1.44491888e+00]\n",
            " [ 1.00000000e+00  1.33780808e+00  1.13907323e+00]\n",
            " [ 1.00000000e+00  1.21918765e+00  1.49257378e+00]\n",
            " [ 1.00000000e+00  2.09820883e+00  1.50954892e+00]\n",
            " [ 1.00000000e+00  9.92650099e-01  1.43854031e+00]\n",
            " [ 1.00000000e+00 -4.82422706e-01 -8.61520416e-02]\n",
            " [ 1.00000000e+00  1.74349003e+00  1.98459052e+00]\n",
            " [ 1.00000000e+00  1.58624743e+00  1.57279222e+00]\n",
            " [ 1.00000000e+00 -3.62564153e-01  2.55544857e+00]\n",
            " [ 1.00000000e+00  1.94766257e+00  1.98158136e+00]\n",
            " [ 1.00000000e+00  1.48362924e+00 -8.59961025e-01]\n",
            " [ 1.00000000e+00  1.29410107e+00  7.98581014e-01]\n",
            " [ 1.00000000e+00  1.17174548e+00  2.91986737e-01]\n",
            " [ 1.00000000e+00  8.48265935e-01  3.10587668e-02]\n",
            " [ 1.00000000e+00 -3.67290058e-01  1.16492336e+00]\n",
            " [ 1.00000000e+00  5.52539111e-01  1.16681557e+00]\n",
            " [ 1.00000000e+00  1.75799862e+00 -4.15016303e-03]\n",
            " [ 1.00000000e+00 -3.89102142e-01  1.26907849e+00]\n",
            " [ 1.00000000e+00  2.60911562e+00  8.71918583e-01]\n",
            " [ 1.00000000e+00  1.30676655e+00  5.21083376e-01]\n",
            " [ 1.00000000e+00  9.29771882e-01  1.00353734e+00]\n",
            " [ 1.00000000e+00  4.55362224e-01  1.65152959e+00]\n",
            " [ 1.00000000e+00  4.85507190e-01  1.79360475e+00]\n",
            " [ 1.00000000e+00  1.45160054e+00  1.56142661e+00]\n",
            " [ 1.00000000e+00  2.16170925e+00  1.04441831e+00]\n",
            " [ 1.00000000e+00  5.73899723e-01 -1.81113615e-01]\n",
            " [ 1.00000000e+00  1.25338381e-01  2.32004483e+00]\n",
            " [ 1.00000000e+00  1.30782818e-01  1.86698064e+00]\n",
            " [ 1.00000000e+00  8.78242272e-01  5.31720266e-01]\n",
            " [ 1.00000000e+00  3.78525908e+00  8.54905265e-01]\n",
            " [ 1.00000000e+00  1.25378740e+00  5.05342423e-01]\n",
            " [ 1.00000000e+00  3.06124287e-01 -2.96401754e-01]\n",
            " [ 1.00000000e+00  2.50539505e-01  1.41390200e+00]\n",
            " [ 1.00000000e+00  5.18935335e-01 -5.85083466e-01]\n",
            " [ 1.00000000e+00 -5.97081470e-01  1.28654921e+00]\n",
            " [ 1.00000000e+00  2.97147910e-01  9.70350913e-01]\n",
            " [ 1.00000000e+00  1.01745330e+00  2.05063355e+00]\n",
            " [ 1.00000000e+00  1.71879402e+00  1.78519436e+00]\n",
            " [ 1.00000000e+00  1.42814896e+00  2.32115705e+00]]\n"
          ],
          "name": "stdout"
        }
      ]
    },
    {
      "cell_type": "markdown",
      "metadata": {
        "id": "6bUhddRUcfQV"
      },
      "source": [
        "# memo\n",
        "for _ in range(max_iter):は変数名を「_」にすることによって、「その変数を使っていません」ということを表現しています（Pythonの習慣です）。\n",
        "\n",
        "def sgdは確率勾配降下法ではない"
      ]
    },
    {
      "cell_type": "markdown",
      "metadata": {
        "id": "-r47JSehPXzg"
      },
      "source": [
        "## 予測"
      ]
    },
    {
      "cell_type": "markdown",
      "metadata": {
        "id": "pWn4KfiFPXzg"
      },
      "source": [
        "入力に対して、$y=1$である確率を出力する。よって\n",
        "\n",
        "$p(y=1 | \\boldsymbol{x}; \\boldsymbol{w}) = \\sigma (\\boldsymbol{w}^{\\mathrm{T}} \\boldsymbol{x})$の値が\n",
        "\n",
        "$0.5$より大きければ1に、小さければ0に分類する。"
      ]
    },
    {
      "cell_type": "code",
      "metadata": {
        "id": "tzzms1E-PXzg"
      },
      "source": [
        "xx0, xx1 = np.meshgrid(np.linspace(-5, 5, 100), np.linspace(-5, 5, 100))\n",
        "xx = np.array([xx0, xx1]).reshape(2, -1).T"
      ],
      "execution_count": 16,
      "outputs": []
    },
    {
      "cell_type": "code",
      "metadata": {
        "id": "VVlFnNtSPXzg"
      },
      "source": [
        "X_test = add_one(xx)\n",
        "proba = sigmoid(np.dot(X_test, w))\n",
        "y_pred = (proba > 0.5).astype(np.int)"
      ],
      "execution_count": 17,
      "outputs": []
    },
    {
      "cell_type": "code",
      "metadata": {
        "id": "PbsU-PgtPXzg",
        "colab": {
          "base_uri": "https://localhost:8080/",
          "height": 283
        },
        "outputId": "60736d42-efb1-4aca-eda2-e407f632aaa7"
      },
      "source": [
        "plt.scatter(x_train[:, 0], x_train[:, 1], c=y_train)\n",
        "plt.contourf(xx0, xx1, proba.reshape(100, 100), alpha=0.2, levels=np.linspace(0, 1, 3))"
      ],
      "execution_count": 18,
      "outputs": [
        {
          "output_type": "execute_result",
          "data": {
            "text/plain": [
              "<matplotlib.contour.QuadContourSet at 0x7feabf015dd8>"
            ]
          },
          "metadata": {
            "tags": []
          },
          "execution_count": 18
        },
        {
          "output_type": "display_data",
          "data": {
            "image/png": "[encoded data removed]",
            "text/plain": [
              "<Figure size 432x288 with 1 Axes>"
            ]
          },
          "metadata": {
            "tags": [],
            "needs_background": "light"
          }
        }
      ]
    },
    {
      "cell_type": "code",
      "metadata": {
        "id": "qRKH6ZjbPXzg",
        "colab": {
          "base_uri": "https://localhost:8080/",
          "height": 283
        },
        "outputId": "11f30892-7cca-4c84-ab06-5dc9c003a012"
      },
      "source": [
        "#numpy実装\n",
        "\n",
        "from sklearn.linear_model import LogisticRegression\n",
        "model=LogisticRegression(fit_intercept=True)\n",
        "model.fit(x_train, y_train)\n",
        "proba = model.predict_proba(xx)\n",
        "y_pred = (proba > 0.5).astype(np.int)\n",
        "plt.scatter(x_train[:, 0], x_train[:, 1], c=y_train)\n",
        "plt.contourf(xx0, xx1, proba[:, 0].reshape(100, 100), alpha=0.2, levels=np.linspace(0, 1, 3))"
      ],
      "execution_count": 20,
      "outputs": [
        {
          "output_type": "execute_result",
          "data": {
            "text/plain": [
              "<matplotlib.contour.QuadContourSet at 0x7feabf015c88>"
            ]
          },
          "metadata": {
            "tags": []
          },
          "execution_count": 20
        },
        {
          "output_type": "display_data",
          "data": {
            "image/png": "[encoded data removed]",
            "text/plain": [
              "<Figure size 432x288 with 1 Axes>"
            ]
          },
          "metadata": {
            "tags": [],
            "needs_background": "light"
          }
        }
      ]
    },
    {
      "cell_type": "code",
      "metadata": {
        "id": "w08S2gL5PXzg"
      },
      "source": [
        ""
      ],
      "execution_count": null,
      "outputs": []
    },
    {
      "cell_type": "code",
      "metadata": {
        "id": "1WmoVokmPXzg"
      },
      "source": [
        ""
      ],
      "execution_count": null,
      "outputs": []
    }
  ]
}